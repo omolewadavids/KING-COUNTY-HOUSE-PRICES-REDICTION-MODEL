{
 "cells": [
  {
   "cell_type": "markdown",
   "metadata": {},
   "source": [
    "<h1><center>KING COUNTY HOUSE PRICES REDICTION MODEL</center></h1>\n",
    "\n",
    "#### <center>MULTIPLE LINEAR REGRESSION ANALYSIS</center>\n",
    "\n",
    "##### BY: Omolewa DAVIDS\n",
    "***"
   ]
  },
  {
   "cell_type": "markdown",
   "metadata": {},
   "source": [
    "The dataset used for this project was acquired from Kaggle. This Dataset which was provided by King County, Washington, include data of houses sold between May 2014 and May 2015.\n",
    "\n",
    "The goal of this project was to develop a linear model to predict the price of houses in King County, Washington. Additionally, during the process, the dataset will be explored to get detail overview of the dataset (Exploratory Data Analysis)"
   ]
  },
  {
   "cell_type": "markdown",
   "metadata": {},
   "source": [
    "<div class=\"alert alert-block alert-info\">\n",
    "    \n",
    "### Table of Contents\n",
    "\n",
    "* [Import Libraries](#section_1)\n",
    "* [Load the Dataset into Dataframe](#section_2)\n",
    "* [Overview of the Dataset](#section_3)\n",
    "* [MultiCollinearity Check](#section_4)\n",
    "* [Build the Model](#section_5)\n",
    "* [Evaluating the Model](#section_6)\n",
    "* [Remove the Insignificant Variables](#section_7)\n",
    "* [Saving the Model for Future Use](#section_8)\n",
    "\n",
    "<a id=\"section_0\"></a>\n",
    "***"
   ]
  },
  {
   "cell_type": "markdown",
   "metadata": {},
   "source": [
    "<div class=\"alert alert-block alert-info\">\n",
    "<a id=\"section_1\"></a>\n",
    "    \n",
    "### Assumptions of the Model\n",
    "We nned to understand the assumptions of the model. If any assumption is violated, then we have to take extra step to improve the model or we drop the model altogether\n",
    "* Regression residuals must be normaly distributed\n",
    "* A linear relationship is assumed between the dependent variable and the indeppendent variable\n",
    "* The residuals are homoscedastic and approximately regular shaped\n",
    "* Absence of Multicollinearity is expected in the model\n",
    "* No autocorellation of the residuals\n",
    "\n",
    "***\n",
    "__[Assumption of Linear Regression](https://www.statisticssolutions.com/assumptions-of-linear-regression/)__"
   ]
  },
  {
   "cell_type": "markdown",
   "metadata": {},
   "source": [
    "<div class=\"alert alert-block alert-info\">\n",
    "   \n",
    "#### SECTION 1: IMPORT THE LIBRARIES\n",
    "\n",
    "<a id=\"section_1\"></a>\n",
    "\n",
    "* click here to go back to [Table of Contents](#section_0)"
   ]
  },
  {
   "cell_type": "markdown",
   "metadata": {},
   "source": [
    "> These are the python libraries that we need for this project. We need Matplotlib and Seaborn to create our visuals. Sklearn library to create our model and use statsmodels library for the evaluation or our model\n",
    "***"
   ]
  },
  {
   "cell_type": "code",
   "execution_count": 3,
   "metadata": {},
   "outputs": [],
   "source": [
    "import matplotlib.pyplot as plt\n",
    "import seaborn as sns\n",
    "import pandas as pd\n",
    "import numpy as np\n",
    "import pylab\n",
    "import math\n",
    "from scipy import stats\n",
    "import statsmodels.api as sm\n",
    "from statsmodels.stats import diagnostic as diag\n",
    "from statsmodels.stats.outliers_influence import variance_inflation_factor\n",
    "from sklearn.model_selection import train_test_split\n",
    "from sklearn.linear_model import LinearRegression\n",
    "from sklearn.metrics import mean_squared_error, r2_score, mean_absolute_error"
   ]
  },
  {
   "cell_type": "markdown",
   "metadata": {},
   "source": [
    "<div class=\"alert alert-block alert-info\">\n",
    "    \n",
    "### SECTION 2: LOAD THE DATASET INTO DATAFRAME\n",
    "\n",
    "<a id=\"section_2\"></a>\n",
    "\n",
    "* click here to go back to [Table of Contents](#section_0)"
   ]
  },
  {
   "cell_type": "markdown",
   "metadata": {},
   "source": [
    "> We will be performing a multiple linear regression analysis on **KINGS COUNTY HOUSING DATASET**. The goal is to explore the dataset and generate a model to predict the price of Houses in Kings County <br>\n",
    "\n",
    "> After loading the libraries, we can begin the process of importing and exploring the data. After we have loaded the data into the dataframe, we start our data munging, which is the process of transforming and mapping the data with the intent of making it more appropriate and valuable for the downstream purpose of our analytics and modelling\n",
    "***"
   ]
  },
  {
   "cell_type": "code",
   "execution_count": 13,
   "metadata": {},
   "outputs": [],
   "source": [
    "# Load the data into pandas and set the na_values=[\"nan\",\"n.a\",\"not available\",\"?\",\"NaN\"]\n",
    "data_df = pd.read_csv('https://raw.githubusercontent.com/Amberlynnyandow/dsc-1-final-project-online-ds-ft-021119/master/kc_house_data.csv', na_values=[\"nan\",\"n.a\",\"not available\",\"?\",\"NaN\"])"
   ]
  },
  {
   "cell_type": "code",
   "execution_count": 67,
   "metadata": {},
   "outputs": [
    {
     "name": "stdout",
     "output_type": "stream",
     "text": [
      "Collecting folium\n",
      "  Downloading https://files.pythonhosted.org/packages/72/ff/004bfe344150a064e558cb2aedeaa02ecbf75e60e148a55a9198f0c41765/folium-0.10.0-py2.py3-none-any.whl (91kB)\n",
      "Requirement already satisfied: requests in c:\\users\\adara\\anaconda3\\lib\\site-packages (from folium) (2.22.0)\n",
      "Collecting branca>=0.3.0 (from folium)\n",
      "  Downloading https://files.pythonhosted.org/packages/63/36/1c93318e9653f4e414a2e0c3b98fc898b4970e939afeedeee6075dd3b703/branca-0.3.1-py3-none-any.whl\n",
      "Requirement already satisfied: numpy in c:\\users\\adara\\anaconda3\\lib\\site-packages (from folium) (1.16.4)\n",
      "Requirement already satisfied: jinja2>=2.9 in c:\\users\\adara\\anaconda3\\lib\\site-packages (from folium) (2.10.1)\n",
      "Requirement already satisfied: urllib3!=1.25.0,!=1.25.1,<1.26,>=1.21.1 in c:\\users\\adara\\anaconda3\\lib\\site-packages (from requests->folium) (1.24.2)\n",
      "Requirement already satisfied: chardet<3.1.0,>=3.0.2 in c:\\users\\adara\\anaconda3\\lib\\site-packages (from requests->folium) (3.0.4)\n",
      "Requirement already satisfied: certifi>=2017.4.17 in c:\\users\\adara\\anaconda3\\lib\\site-packages (from requests->folium) (2019.6.16)\n",
      "Requirement already satisfied: idna<2.9,>=2.5 in c:\\users\\adara\\anaconda3\\lib\\site-packages (from requests->folium) (2.8)\n",
      "Requirement already satisfied: six in c:\\users\\adara\\anaconda3\\lib\\site-packages (from branca>=0.3.0->folium) (1.12.0)\n",
      "Requirement already satisfied: MarkupSafe>=0.23 in c:\\users\\adara\\anaconda3\\lib\\site-packages (from jinja2>=2.9->folium) (1.1.1)\n",
      "Installing collected packages: branca, folium\n",
      "Successfully installed branca-0.3.1 folium-0.10.0\n"
     ]
    }
   ],
   "source": [
    "!pip install folium"
   ]
  },
  {
   "cell_type": "code",
   "execution_count": 70,
   "metadata": {},
   "outputs": [],
   "source": [
    "import folium\n",
    "import pandas as pd\n",
    "import json\n",
    "from folium import plugins"
   ]
  },
  {
   "cell_type": "code",
   "execution_count": 71,
   "metadata": {},
   "outputs": [],
   "source": [
    "data = pd.DataFrame({\n",
    "    'lat' :[-58, 2, 145, 30.32, -4.03, -73.57, 36.82, -38.5],\n",
    "    'long' : [-34, 49, -38, 59.93, 5.33, 45.52, -1.29, -12.97],\n",
    "})"
   ]
  },
  {
   "cell_type": "code",
   "execution_count": 73,
   "metadata": {},
   "outputs": [],
   "source": [
    "m = folium.Map(location=[20,0], tiles=\"Mapbox Bright\", zoom_start=2)"
   ]
  },
  {
   "cell_type": "code",
   "execution_count": 78,
   "metadata": {},
   "outputs": [],
   "source": [
    "for i in range(0, len(data_df)):\n",
    "    folium.Marker([data_df.iloc[i]['long'], data_df.iloc[i]['lat']]).add_to(m)"
   ]
  },
  {
   "cell_type": "code",
   "execution_count": 81,
   "metadata": {},
   "outputs": [],
   "source": [
    "m.save('312_markers_on_folium_map2.html')\n"
   ]
  },
  {
   "cell_type": "markdown",
   "metadata": {},
   "source": [
    "<div class=\"alert alert-block alert-info\">\n",
    "    \n",
    "### SECTION 3: OVERVIEW OF THE DATASET\n",
    "\n",
    "<a id=\"section_3\"></a>\n",
    "\n",
    "* click here to go back to [Table of Contents](#section_0)"
   ]
  },
  {
   "cell_type": "code",
   "execution_count": 5,
   "metadata": {},
   "outputs": [
    {
     "data": {
      "text/plain": [
       "Index(['id', 'date', 'price', 'bedrooms', 'bathrooms', 'sqft_living',\n",
       "       'sqft_lot', 'floors', 'waterfront', 'view', 'condition', 'grade',\n",
       "       'sqft_above', 'sqft_basement', 'yr_built', 'yr_renovated', 'zipcode',\n",
       "       'lat', 'long', 'sqft_living15', 'sqft_lot15'],\n",
       "      dtype='object')"
      ]
     },
     "execution_count": 5,
     "metadata": {},
     "output_type": "execute_result"
    }
   ],
   "source": [
    "data_df.columns # Take a look at the column names"
   ]
  },
  {
   "cell_type": "markdown",
   "metadata": {},
   "source": [
    "| Variables | Discription |\n",
    "| --- | --- |\n",
    "| id | Unique ID for each Houses |\n",
    "| Date | Date of House sale |\n",
    "| Price | Price of each Houses |\n",
    "| Bedrooms | Number of bedrooms |\n",
    "| Bathrooms | Number of Bathrooms |\n",
    "| Sqft_living | Square footage of Interior living spasce |\n",
    "| Sqft_lot | Square footage of the land space |\n",
    "| Floors | Number of floors |\n",
    "| Waterfront | Shows Whether the House is Overlooking waterfront or not |\n",
    "| View | Shows how good the house looks |\n",
    "| Condition | An index from 1 - 5 on the condition of the houses |\n",
    "| Grade | An index 0f 1 - 13 given by the Government |\n",
    "| Sqft_above | Square footage of the interior housing space above the ground |\n",
    "| Sqft_basement | Square footage of the interior housing space below the ground |\n",
    "| Yr_built | The year the house was initially built |\n",
    "| Yr_renovated | The last year the house was renovated |\n",
    "| Zipcode | The zipcode of the houses |\n",
    "| Lat | Latitudinal location of the house |\n",
    "| Long | Longitudinal location of the house |\n",
    "| Sqft_living15 | Sqaure footage of the interior housing living space for nearest 15 houses |\n",
    "| Sqft_lot15 | THe Square footage of lot for the nearest 15 houses |\n"
   ]
  },
  {
   "cell_type": "markdown",
   "metadata": {},
   "source": [
    "#### Data PreProcessing :\n",
    "\n",
    "***"
   ]
  },
  {
   "cell_type": "markdown",
   "metadata": {},
   "source": [
    "> Before we start with the model creation, we should summarize the attributes in our dataset and objectively compare them with the goal expectations. We have target metrics whose relationship we want to analyse with the attributes in our data. This is know as **KEY PERFORMANCE INDICATOR (KPI)**"
   ]
  },
  {
   "cell_type": "code",
   "execution_count": 21,
   "metadata": {},
   "outputs": [
    {
     "data": {
      "text/html": [
       "<div>\n",
       "<style scoped>\n",
       "    .dataframe tbody tr th:only-of-type {\n",
       "        vertical-align: middle;\n",
       "    }\n",
       "\n",
       "    .dataframe tbody tr th {\n",
       "        vertical-align: top;\n",
       "    }\n",
       "\n",
       "    .dataframe thead th {\n",
       "        text-align: right;\n",
       "    }\n",
       "</style>\n",
       "<table border=\"1\" class=\"dataframe\">\n",
       "  <thead>\n",
       "    <tr style=\"text-align: right;\">\n",
       "      <th></th>\n",
       "      <th>id</th>\n",
       "      <th>date</th>\n",
       "      <th>price</th>\n",
       "      <th>bedrooms</th>\n",
       "      <th>bathrooms</th>\n",
       "      <th>sqft_living</th>\n",
       "      <th>sqft_lot</th>\n",
       "      <th>floors</th>\n",
       "      <th>waterfront</th>\n",
       "      <th>view</th>\n",
       "      <th>...</th>\n",
       "      <th>grade</th>\n",
       "      <th>sqft_above</th>\n",
       "      <th>sqft_basement</th>\n",
       "      <th>yr_built</th>\n",
       "      <th>yr_renovated</th>\n",
       "      <th>zipcode</th>\n",
       "      <th>lat</th>\n",
       "      <th>long</th>\n",
       "      <th>sqft_living15</th>\n",
       "      <th>sqft_lot15</th>\n",
       "    </tr>\n",
       "  </thead>\n",
       "  <tbody>\n",
       "    <tr>\n",
       "      <th>0</th>\n",
       "      <td>7129300520</td>\n",
       "      <td>10/13/2014</td>\n",
       "      <td>221900.0</td>\n",
       "      <td>3</td>\n",
       "      <td>1.00</td>\n",
       "      <td>1180</td>\n",
       "      <td>5650</td>\n",
       "      <td>1.0</td>\n",
       "      <td>NaN</td>\n",
       "      <td>0.0</td>\n",
       "      <td>...</td>\n",
       "      <td>7</td>\n",
       "      <td>1180</td>\n",
       "      <td>0.0</td>\n",
       "      <td>1955</td>\n",
       "      <td>0.0</td>\n",
       "      <td>98178</td>\n",
       "      <td>47.5112</td>\n",
       "      <td>-122.257</td>\n",
       "      <td>1340</td>\n",
       "      <td>5650</td>\n",
       "    </tr>\n",
       "    <tr>\n",
       "      <th>1</th>\n",
       "      <td>6414100192</td>\n",
       "      <td>12/9/2014</td>\n",
       "      <td>538000.0</td>\n",
       "      <td>3</td>\n",
       "      <td>2.25</td>\n",
       "      <td>2570</td>\n",
       "      <td>7242</td>\n",
       "      <td>2.0</td>\n",
       "      <td>0.0</td>\n",
       "      <td>0.0</td>\n",
       "      <td>...</td>\n",
       "      <td>7</td>\n",
       "      <td>2170</td>\n",
       "      <td>400.0</td>\n",
       "      <td>1951</td>\n",
       "      <td>1991.0</td>\n",
       "      <td>98125</td>\n",
       "      <td>47.7210</td>\n",
       "      <td>-122.319</td>\n",
       "      <td>1690</td>\n",
       "      <td>7639</td>\n",
       "    </tr>\n",
       "    <tr>\n",
       "      <th>2</th>\n",
       "      <td>5631500400</td>\n",
       "      <td>2/25/2015</td>\n",
       "      <td>180000.0</td>\n",
       "      <td>2</td>\n",
       "      <td>1.00</td>\n",
       "      <td>770</td>\n",
       "      <td>10000</td>\n",
       "      <td>1.0</td>\n",
       "      <td>0.0</td>\n",
       "      <td>0.0</td>\n",
       "      <td>...</td>\n",
       "      <td>6</td>\n",
       "      <td>770</td>\n",
       "      <td>0.0</td>\n",
       "      <td>1933</td>\n",
       "      <td>NaN</td>\n",
       "      <td>98028</td>\n",
       "      <td>47.7379</td>\n",
       "      <td>-122.233</td>\n",
       "      <td>2720</td>\n",
       "      <td>8062</td>\n",
       "    </tr>\n",
       "    <tr>\n",
       "      <th>3</th>\n",
       "      <td>2487200875</td>\n",
       "      <td>12/9/2014</td>\n",
       "      <td>604000.0</td>\n",
       "      <td>4</td>\n",
       "      <td>3.00</td>\n",
       "      <td>1960</td>\n",
       "      <td>5000</td>\n",
       "      <td>1.0</td>\n",
       "      <td>0.0</td>\n",
       "      <td>0.0</td>\n",
       "      <td>...</td>\n",
       "      <td>7</td>\n",
       "      <td>1050</td>\n",
       "      <td>910.0</td>\n",
       "      <td>1965</td>\n",
       "      <td>0.0</td>\n",
       "      <td>98136</td>\n",
       "      <td>47.5208</td>\n",
       "      <td>-122.393</td>\n",
       "      <td>1360</td>\n",
       "      <td>5000</td>\n",
       "    </tr>\n",
       "    <tr>\n",
       "      <th>4</th>\n",
       "      <td>1954400510</td>\n",
       "      <td>2/18/2015</td>\n",
       "      <td>510000.0</td>\n",
       "      <td>3</td>\n",
       "      <td>2.00</td>\n",
       "      <td>1680</td>\n",
       "      <td>8080</td>\n",
       "      <td>1.0</td>\n",
       "      <td>0.0</td>\n",
       "      <td>0.0</td>\n",
       "      <td>...</td>\n",
       "      <td>8</td>\n",
       "      <td>1680</td>\n",
       "      <td>0.0</td>\n",
       "      <td>1987</td>\n",
       "      <td>0.0</td>\n",
       "      <td>98074</td>\n",
       "      <td>47.6168</td>\n",
       "      <td>-122.045</td>\n",
       "      <td>1800</td>\n",
       "      <td>7503</td>\n",
       "    </tr>\n",
       "  </tbody>\n",
       "</table>\n",
       "<p>5 rows × 21 columns</p>\n",
       "</div>"
      ],
      "text/plain": [
       "           id        date     price  bedrooms  bathrooms  sqft_living  \\\n",
       "0  7129300520  10/13/2014  221900.0         3       1.00         1180   \n",
       "1  6414100192   12/9/2014  538000.0         3       2.25         2570   \n",
       "2  5631500400   2/25/2015  180000.0         2       1.00          770   \n",
       "3  2487200875   12/9/2014  604000.0         4       3.00         1960   \n",
       "4  1954400510   2/18/2015  510000.0         3       2.00         1680   \n",
       "\n",
       "   sqft_lot  floors  waterfront  view  ...  grade  sqft_above  sqft_basement  \\\n",
       "0      5650     1.0         NaN   0.0  ...      7        1180            0.0   \n",
       "1      7242     2.0         0.0   0.0  ...      7        2170          400.0   \n",
       "2     10000     1.0         0.0   0.0  ...      6         770            0.0   \n",
       "3      5000     1.0         0.0   0.0  ...      7        1050          910.0   \n",
       "4      8080     1.0         0.0   0.0  ...      8        1680            0.0   \n",
       "\n",
       "   yr_built  yr_renovated  zipcode      lat     long  sqft_living15  \\\n",
       "0      1955           0.0    98178  47.5112 -122.257           1340   \n",
       "1      1951        1991.0    98125  47.7210 -122.319           1690   \n",
       "2      1933           NaN    98028  47.7379 -122.233           2720   \n",
       "3      1965           0.0    98136  47.5208 -122.393           1360   \n",
       "4      1987           0.0    98074  47.6168 -122.045           1800   \n",
       "\n",
       "   sqft_lot15  \n",
       "0        5650  \n",
       "1        7639  \n",
       "2        8062  \n",
       "3        5000  \n",
       "4        7503  \n",
       "\n",
       "[5 rows x 21 columns]"
      ]
     },
     "execution_count": 21,
     "metadata": {},
     "output_type": "execute_result"
    }
   ],
   "source": [
    "data_df.head() # Check the top 5 rows of the dataset"
   ]
  },
  {
   "cell_type": "code",
   "execution_count": 22,
   "metadata": {},
   "outputs": [
    {
     "data": {
      "text/html": [
       "<div>\n",
       "<style scoped>\n",
       "    .dataframe tbody tr th:only-of-type {\n",
       "        vertical-align: middle;\n",
       "    }\n",
       "\n",
       "    .dataframe tbody tr th {\n",
       "        vertical-align: top;\n",
       "    }\n",
       "\n",
       "    .dataframe thead th {\n",
       "        text-align: right;\n",
       "    }\n",
       "</style>\n",
       "<table border=\"1\" class=\"dataframe\">\n",
       "  <thead>\n",
       "    <tr style=\"text-align: right;\">\n",
       "      <th></th>\n",
       "      <th>id</th>\n",
       "      <th>date</th>\n",
       "      <th>price</th>\n",
       "      <th>bedrooms</th>\n",
       "      <th>bathrooms</th>\n",
       "      <th>sqft_living</th>\n",
       "      <th>sqft_lot</th>\n",
       "      <th>floors</th>\n",
       "      <th>waterfront</th>\n",
       "      <th>view</th>\n",
       "      <th>...</th>\n",
       "      <th>grade</th>\n",
       "      <th>sqft_above</th>\n",
       "      <th>sqft_basement</th>\n",
       "      <th>yr_built</th>\n",
       "      <th>yr_renovated</th>\n",
       "      <th>zipcode</th>\n",
       "      <th>lat</th>\n",
       "      <th>long</th>\n",
       "      <th>sqft_living15</th>\n",
       "      <th>sqft_lot15</th>\n",
       "    </tr>\n",
       "  </thead>\n",
       "  <tbody>\n",
       "    <tr>\n",
       "      <th>21592</th>\n",
       "      <td>263000018</td>\n",
       "      <td>5/21/2014</td>\n",
       "      <td>360000.0</td>\n",
       "      <td>3</td>\n",
       "      <td>2.50</td>\n",
       "      <td>1530</td>\n",
       "      <td>1131</td>\n",
       "      <td>3.0</td>\n",
       "      <td>0.0</td>\n",
       "      <td>0.0</td>\n",
       "      <td>...</td>\n",
       "      <td>8</td>\n",
       "      <td>1530</td>\n",
       "      <td>0.0</td>\n",
       "      <td>2009</td>\n",
       "      <td>0.0</td>\n",
       "      <td>98103</td>\n",
       "      <td>47.6993</td>\n",
       "      <td>-122.346</td>\n",
       "      <td>1530</td>\n",
       "      <td>1509</td>\n",
       "    </tr>\n",
       "    <tr>\n",
       "      <th>21593</th>\n",
       "      <td>6600060120</td>\n",
       "      <td>2/23/2015</td>\n",
       "      <td>400000.0</td>\n",
       "      <td>4</td>\n",
       "      <td>2.50</td>\n",
       "      <td>2310</td>\n",
       "      <td>5813</td>\n",
       "      <td>2.0</td>\n",
       "      <td>0.0</td>\n",
       "      <td>0.0</td>\n",
       "      <td>...</td>\n",
       "      <td>8</td>\n",
       "      <td>2310</td>\n",
       "      <td>0.0</td>\n",
       "      <td>2014</td>\n",
       "      <td>0.0</td>\n",
       "      <td>98146</td>\n",
       "      <td>47.5107</td>\n",
       "      <td>-122.362</td>\n",
       "      <td>1830</td>\n",
       "      <td>7200</td>\n",
       "    </tr>\n",
       "    <tr>\n",
       "      <th>21594</th>\n",
       "      <td>1523300141</td>\n",
       "      <td>6/23/2014</td>\n",
       "      <td>402101.0</td>\n",
       "      <td>2</td>\n",
       "      <td>0.75</td>\n",
       "      <td>1020</td>\n",
       "      <td>1350</td>\n",
       "      <td>2.0</td>\n",
       "      <td>0.0</td>\n",
       "      <td>0.0</td>\n",
       "      <td>...</td>\n",
       "      <td>7</td>\n",
       "      <td>1020</td>\n",
       "      <td>0.0</td>\n",
       "      <td>2009</td>\n",
       "      <td>0.0</td>\n",
       "      <td>98144</td>\n",
       "      <td>47.5944</td>\n",
       "      <td>-122.299</td>\n",
       "      <td>1020</td>\n",
       "      <td>2007</td>\n",
       "    </tr>\n",
       "    <tr>\n",
       "      <th>21595</th>\n",
       "      <td>291310100</td>\n",
       "      <td>1/16/2015</td>\n",
       "      <td>400000.0</td>\n",
       "      <td>3</td>\n",
       "      <td>2.50</td>\n",
       "      <td>1600</td>\n",
       "      <td>2388</td>\n",
       "      <td>2.0</td>\n",
       "      <td>NaN</td>\n",
       "      <td>0.0</td>\n",
       "      <td>...</td>\n",
       "      <td>8</td>\n",
       "      <td>1600</td>\n",
       "      <td>0.0</td>\n",
       "      <td>2004</td>\n",
       "      <td>0.0</td>\n",
       "      <td>98027</td>\n",
       "      <td>47.5345</td>\n",
       "      <td>-122.069</td>\n",
       "      <td>1410</td>\n",
       "      <td>1287</td>\n",
       "    </tr>\n",
       "    <tr>\n",
       "      <th>21596</th>\n",
       "      <td>1523300157</td>\n",
       "      <td>10/15/2014</td>\n",
       "      <td>325000.0</td>\n",
       "      <td>2</td>\n",
       "      <td>0.75</td>\n",
       "      <td>1020</td>\n",
       "      <td>1076</td>\n",
       "      <td>2.0</td>\n",
       "      <td>0.0</td>\n",
       "      <td>0.0</td>\n",
       "      <td>...</td>\n",
       "      <td>7</td>\n",
       "      <td>1020</td>\n",
       "      <td>0.0</td>\n",
       "      <td>2008</td>\n",
       "      <td>0.0</td>\n",
       "      <td>98144</td>\n",
       "      <td>47.5941</td>\n",
       "      <td>-122.299</td>\n",
       "      <td>1020</td>\n",
       "      <td>1357</td>\n",
       "    </tr>\n",
       "  </tbody>\n",
       "</table>\n",
       "<p>5 rows × 21 columns</p>\n",
       "</div>"
      ],
      "text/plain": [
       "               id        date     price  bedrooms  bathrooms  sqft_living  \\\n",
       "21592   263000018   5/21/2014  360000.0         3       2.50         1530   \n",
       "21593  6600060120   2/23/2015  400000.0         4       2.50         2310   \n",
       "21594  1523300141   6/23/2014  402101.0         2       0.75         1020   \n",
       "21595   291310100   1/16/2015  400000.0         3       2.50         1600   \n",
       "21596  1523300157  10/15/2014  325000.0         2       0.75         1020   \n",
       "\n",
       "       sqft_lot  floors  waterfront  view  ...  grade  sqft_above  \\\n",
       "21592      1131     3.0         0.0   0.0  ...      8        1530   \n",
       "21593      5813     2.0         0.0   0.0  ...      8        2310   \n",
       "21594      1350     2.0         0.0   0.0  ...      7        1020   \n",
       "21595      2388     2.0         NaN   0.0  ...      8        1600   \n",
       "21596      1076     2.0         0.0   0.0  ...      7        1020   \n",
       "\n",
       "       sqft_basement  yr_built  yr_renovated  zipcode      lat     long  \\\n",
       "21592            0.0      2009           0.0    98103  47.6993 -122.346   \n",
       "21593            0.0      2014           0.0    98146  47.5107 -122.362   \n",
       "21594            0.0      2009           0.0    98144  47.5944 -122.299   \n",
       "21595            0.0      2004           0.0    98027  47.5345 -122.069   \n",
       "21596            0.0      2008           0.0    98144  47.5941 -122.299   \n",
       "\n",
       "       sqft_living15  sqft_lot15  \n",
       "21592           1530        1509  \n",
       "21593           1830        7200  \n",
       "21594           1020        2007  \n",
       "21595           1410        1287  \n",
       "21596           1020        1357  \n",
       "\n",
       "[5 rows x 21 columns]"
      ]
     },
     "execution_count": 22,
     "metadata": {},
     "output_type": "execute_result"
    }
   ],
   "source": [
    "data_df.tail() # Check the bottom 5 rows of the dataset"
   ]
  },
  {
   "cell_type": "code",
   "execution_count": 91,
   "metadata": {},
   "outputs": [],
   "source": [
    "# Rename the condition categories so as to be able to group the dataset by conditions\n",
    "data_df['condition'].replace({1 : 'Bad', 2 : 'Not_Good', 3 : 'Good', 4 : 'Very_Good', 5 : 'Excellent'}, inplace=True)"
   ]
  },
  {
   "cell_type": "code",
   "execution_count": 7,
   "metadata": {},
   "outputs": [
    {
     "data": {
      "text/plain": [
       "0         Good\n",
       "1         Good\n",
       "2         Good\n",
       "3    Excellent\n",
       "4         Good\n",
       "Name: condition, dtype: object"
      ]
     },
     "execution_count": 7,
     "metadata": {},
     "output_type": "execute_result"
    }
   ],
   "source": [
    "data_df['condition'].head()  # Validate the change we just made"
   ]
  },
  {
   "cell_type": "code",
   "execution_count": 8,
   "metadata": {},
   "outputs": [
    {
     "name": "stdout",
     "output_type": "stream",
     "text": [
      "<class 'pandas.core.frame.DataFrame'>\n",
      "RangeIndex: 21597 entries, 0 to 21596\n",
      "Data columns (total 21 columns):\n",
      "id               21597 non-null int64\n",
      "date             21597 non-null object\n",
      "price            21597 non-null float64\n",
      "bedrooms         21597 non-null int64\n",
      "bathrooms        21597 non-null float64\n",
      "sqft_living      21597 non-null int64\n",
      "sqft_lot         21597 non-null int64\n",
      "floors           21597 non-null float64\n",
      "waterfront       19221 non-null float64\n",
      "view             21534 non-null float64\n",
      "condition        21597 non-null object\n",
      "grade            21597 non-null int64\n",
      "sqft_above       21597 non-null int64\n",
      "sqft_basement    21143 non-null float64\n",
      "yr_built         21597 non-null int64\n",
      "yr_renovated     17755 non-null float64\n",
      "zipcode          21597 non-null int64\n",
      "lat              21597 non-null float64\n",
      "long             21597 non-null float64\n",
      "sqft_living15    21597 non-null int64\n",
      "sqft_lot15       21597 non-null int64\n",
      "dtypes: float64(9), int64(10), object(2)\n",
      "memory usage: 3.5+ MB\n"
     ]
    }
   ],
   "source": [
    "data_df.info() # Get more info about the dataset"
   ]
  },
  {
   "cell_type": "code",
   "execution_count": 9,
   "metadata": {},
   "outputs": [
    {
     "data": {
      "text/plain": [
       "(21597, 21)"
      ]
     },
     "execution_count": 9,
     "metadata": {},
     "output_type": "execute_result"
    }
   ],
   "source": [
    "data_df.shape # Get the total number of rows and columns"
   ]
  },
  {
   "cell_type": "markdown",
   "metadata": {},
   "source": [
    "> Dataset comprises of 21597 observations and 21 characteristics.\n",
    "> Out of which one (price) is dependent variable and rest 20 are independent variables.\n",
    "> Check if there is any missing data"
   ]
  },
  {
   "cell_type": "code",
   "execution_count": 10,
   "metadata": {},
   "outputs": [],
   "source": [
    "# Set the index equal to id column\n",
    "data_df.index = data_df['id']"
   ]
  },
  {
   "cell_type": "code",
   "execution_count": 11,
   "metadata": {},
   "outputs": [],
   "source": [
    "data_df = data_df.drop('id', axis = 1)"
   ]
  },
  {
   "cell_type": "code",
   "execution_count": 12,
   "metadata": {},
   "outputs": [
    {
     "data": {
      "text/plain": [
       "date                0\n",
       "price               0\n",
       "bedrooms            0\n",
       "bathrooms           0\n",
       "sqft_living         0\n",
       "sqft_lot            0\n",
       "floors              0\n",
       "waterfront       2376\n",
       "view               63\n",
       "condition           0\n",
       "grade               0\n",
       "sqft_above          0\n",
       "sqft_basement     454\n",
       "yr_built            0\n",
       "yr_renovated     3842\n",
       "zipcode             0\n",
       "lat                 0\n",
       "long                0\n",
       "sqft_living15       0\n",
       "sqft_lot15          0\n",
       "dtype: int64"
      ]
     },
     "execution_count": 12,
     "metadata": {},
     "output_type": "execute_result"
    }
   ],
   "source": [
    "data_df.isnull().sum() # Check for missing data"
   ]
  },
  {
   "cell_type": "code",
   "execution_count": 14,
   "metadata": {},
   "outputs": [
    {
     "data": {
      "text/plain": [
       "(0.0    19075\n",
       " 1.0      146\n",
       " Name: waterfront, dtype: int64, 0.0       12826\n",
       " 600.0       217\n",
       " 500.0       209\n",
       " 700.0       208\n",
       " 800.0       201\n",
       " 400.0       184\n",
       " 1000.0      148\n",
       " 900.0       142\n",
       " 300.0       142\n",
       " 200.0       105\n",
       " 750.0       104\n",
       " 450.0       103\n",
       " 530.0       103\n",
       " 480.0       103\n",
       " 720.0        98\n",
       " 620.0        90\n",
       " 580.0        84\n",
       " 840.0        83\n",
       " 420.0        81\n",
       " 860.0        79\n",
       " 670.0        78\n",
       " 1100.0       78\n",
       " 780.0        76\n",
       " 550.0        76\n",
       " 650.0        75\n",
       " 240.0        74\n",
       " 680.0        73\n",
       " 380.0        73\n",
       " 850.0        72\n",
       " 360.0        72\n",
       "           ...  \n",
       " 2600.0        1\n",
       " 2610.0        1\n",
       " 276.0         1\n",
       " 274.0         1\n",
       " 1245.0        1\n",
       " 143.0         1\n",
       " 266.0         1\n",
       " 862.0         1\n",
       " 2180.0        1\n",
       " 415.0         1\n",
       " 243.0         1\n",
       " 1135.0        1\n",
       " 1525.0        1\n",
       " 3000.0        1\n",
       " 172.0         1\n",
       " 225.0         1\n",
       " 518.0         1\n",
       " 935.0         1\n",
       " 1920.0        1\n",
       " 1930.0        1\n",
       " 1990.0        1\n",
       " 588.0         1\n",
       " 1548.0        1\n",
       " 2390.0        1\n",
       " 602.0         1\n",
       " 915.0         1\n",
       " 295.0         1\n",
       " 1281.0        1\n",
       " 2130.0        1\n",
       " 906.0         1\n",
       " Name: sqft_basement, Length: 303, dtype: int64, 0.0       17011\n",
       " 2014.0       73\n",
       " 2003.0       31\n",
       " 2013.0       31\n",
       " 2007.0       30\n",
       " 2000.0       29\n",
       " 2005.0       29\n",
       " 1990.0       22\n",
       " 2004.0       22\n",
       " 2009.0       21\n",
       " 1989.0       20\n",
       " 2006.0       20\n",
       " 2002.0       17\n",
       " 1991.0       16\n",
       " 1998.0       16\n",
       " 1984.0       16\n",
       " 1999.0       15\n",
       " 2008.0       15\n",
       " 2010.0       15\n",
       " 2001.0       15\n",
       " 1983.0       15\n",
       " 2015.0       14\n",
       " 1985.0       14\n",
       " 1986.0       14\n",
       " 1987.0       14\n",
       " 1994.0       14\n",
       " 1992.0       13\n",
       " 1993.0       12\n",
       " 1997.0       12\n",
       " 1995.0       12\n",
       "           ...  \n",
       " 1975.0        5\n",
       " 1964.0        5\n",
       " 1969.0        4\n",
       " 1963.0        4\n",
       " 1973.0        4\n",
       " 1981.0        4\n",
       " 1965.0        4\n",
       " 1978.0        3\n",
       " 1960.0        3\n",
       " 1958.0        3\n",
       " 1956.0        3\n",
       " 1955.0        3\n",
       " 1945.0        3\n",
       " 1972.0        3\n",
       " 1967.0        2\n",
       " 1957.0        2\n",
       " 1940.0        2\n",
       " 1974.0        2\n",
       " 1962.0        2\n",
       " 1953.0        1\n",
       " 1950.0        1\n",
       " 1934.0        1\n",
       " 1944.0        1\n",
       " 1976.0        1\n",
       " 1948.0        1\n",
       " 1946.0        1\n",
       " 1959.0        1\n",
       " 1971.0        1\n",
       " 1951.0        1\n",
       " 1954.0        1\n",
       " Name: yr_renovated, Length: 70, dtype: int64, 0.0    19422\n",
       " 2.0      957\n",
       " 3.0      508\n",
       " 1.0      330\n",
       " 4.0      317\n",
       " Name: view, dtype: int64)"
      ]
     },
     "execution_count": 14,
     "metadata": {},
     "output_type": "execute_result"
    }
   ],
   "source": [
    "# Take value counts for each of the columns missing datas\n",
    "data_df['waterfront'].value_counts(), data_df['sqft_basement'].value_counts(), data_df['yr_renovated'].value_counts(), data_df['view'].value_counts()"
   ]
  },
  {
   "cell_type": "code",
   "execution_count": 18,
   "metadata": {},
   "outputs": [
    {
     "data": {
      "image/png": "[encoded data removed]",
      "text/plain": [
       "<Figure size 432x288 with 1 Axes>"
      ]
     },
     "metadata": {
      "needs_background": "light"
     },
     "output_type": "display_data"
    }
   ],
   "source": [
    "plt.hist(data_df['yr_renovated'], bins=50, color='purple')\n",
    "plt.xlabel('Year Renovated Normal random distribution')\n",
    "plt.ylabel('Frequency of Values')\n",
    "plt.title('Histograms')\n",
    "plt.show()"
   ]
  },
  {
   "cell_type": "code",
   "execution_count": 23,
   "metadata": {},
   "outputs": [
    {
     "data": {
      "image/png": "[encoded data removed]",
      "text/plain": [
       "<Figure size 432x288 with 1 Axes>"
      ]
     },
     "metadata": {
      "needs_background": "light"
     },
     "output_type": "display_data"
    }
   ],
   "source": [
    "plt.hist(data_df['sqft_basement'], bins=50, color='purple')\n",
    "plt.xlabel('Sqft_basement Normal random distribution')\n",
    "plt.ylabel('Frequency of Values')\n",
    "plt.title('Histograms')\n",
    "plt.show()"
   ]
  },
  {
   "cell_type": "code",
   "execution_count": 22,
   "metadata": {},
   "outputs": [
    {
     "data": {
      "image/png": "[encoded data removed]",
      "text/plain": [
       "<Figure size 432x288 with 1 Axes>"
      ]
     },
     "metadata": {
      "needs_background": "light"
     },
     "output_type": "display_data"
    }
   ],
   "source": [
    "plt.hist(data_df['waterfront'], bins=50, color='purple')\n",
    "plt.xlabel('Waterfront Normal random distribution')\n",
    "plt.ylabel('Frequency of Values')\n",
    "plt.title('Histograms')\n",
    "plt.show()"
   ]
  },
  {
   "cell_type": "markdown",
   "metadata": {},
   "source": [
    "> These distributions justify replacing the missing data by the mode of the distribution "
   ]
  },
  {
   "cell_type": "code",
   "execution_count": 28,
   "metadata": {},
   "outputs": [],
   "source": [
    "# Replace all missing data with the mode in each \n",
    "data_df = data_df.fillna({'yr_renovated': data_df['yr_renovated'].mode(), 'sqft_basement': data_df['sqft_basement'].mode(), 'view': 0, 'waterfront': 0})"
   ]
  },
  {
   "cell_type": "code",
   "execution_count": 29,
   "metadata": {},
   "outputs": [
    {
     "data": {
      "text/plain": [
       "array([0., 1.])"
      ]
     },
     "execution_count": 29,
     "metadata": {},
     "output_type": "execute_result"
    }
   ],
   "source": [
    "data_df['waterfront'].unique()"
   ]
  },
  {
   "cell_type": "code",
   "execution_count": 30,
   "metadata": {},
   "outputs": [
    {
     "data": {
      "text/plain": [
       "id                  0\n",
       "date                0\n",
       "price               0\n",
       "bedrooms            0\n",
       "bathrooms           0\n",
       "sqft_living         0\n",
       "sqft_lot            0\n",
       "floors              0\n",
       "waterfront          0\n",
       "view                0\n",
       "condition           0\n",
       "grade               0\n",
       "sqft_above          0\n",
       "sqft_basement       0\n",
       "yr_built            0\n",
       "yr_renovated     3842\n",
       "zipcode             0\n",
       "lat                 0\n",
       "long                0\n",
       "sqft_living15       0\n",
       "sqft_lot15          0\n",
       "dtype: int64"
      ]
     },
     "execution_count": 30,
     "metadata": {},
     "output_type": "execute_result"
    }
   ],
   "source": [
    "data_df.isnull().sum() # Check for missing data again"
   ]
  },
  {
   "cell_type": "code",
   "execution_count": 35,
   "metadata": {},
   "outputs": [
    {
     "data": {
      "text/html": [
       "<div>\n",
       "<style scoped>\n",
       "    .dataframe tbody tr th:only-of-type {\n",
       "        vertical-align: middle;\n",
       "    }\n",
       "\n",
       "    .dataframe tbody tr th {\n",
       "        vertical-align: top;\n",
       "    }\n",
       "\n",
       "    .dataframe thead th {\n",
       "        text-align: right;\n",
       "    }\n",
       "</style>\n",
       "<table border=\"1\" class=\"dataframe\">\n",
       "  <thead>\n",
       "    <tr style=\"text-align: right;\">\n",
       "      <th></th>\n",
       "      <th>price</th>\n",
       "      <th>bedrooms</th>\n",
       "      <th>bathrooms</th>\n",
       "      <th>sqft_living</th>\n",
       "      <th>sqft_lot</th>\n",
       "      <th>floors</th>\n",
       "      <th>waterfront</th>\n",
       "      <th>view</th>\n",
       "      <th>grade</th>\n",
       "      <th>sqft_above</th>\n",
       "      <th>sqft_basement</th>\n",
       "      <th>yr_built</th>\n",
       "      <th>yr_renovated</th>\n",
       "      <th>zipcode</th>\n",
       "      <th>lat</th>\n",
       "      <th>long</th>\n",
       "      <th>sqft_living15</th>\n",
       "      <th>sqft_lot15</th>\n",
       "    </tr>\n",
       "  </thead>\n",
       "  <tbody>\n",
       "    <tr>\n",
       "      <th>count</th>\n",
       "      <td>2.159700e+04</td>\n",
       "      <td>21597.000000</td>\n",
       "      <td>21597.000000</td>\n",
       "      <td>21597.000000</td>\n",
       "      <td>2.159700e+04</td>\n",
       "      <td>21597.000000</td>\n",
       "      <td>21597.000000</td>\n",
       "      <td>21597.000000</td>\n",
       "      <td>21597.000000</td>\n",
       "      <td>21597.000000</td>\n",
       "      <td>21597.000000</td>\n",
       "      <td>21597.000000</td>\n",
       "      <td>21597.000000</td>\n",
       "      <td>21597.000000</td>\n",
       "      <td>21597.000000</td>\n",
       "      <td>21597.000000</td>\n",
       "      <td>21597.000000</td>\n",
       "      <td>21597.000000</td>\n",
       "    </tr>\n",
       "    <tr>\n",
       "      <th>mean</th>\n",
       "      <td>5.402966e+05</td>\n",
       "      <td>3.373200</td>\n",
       "      <td>2.115826</td>\n",
       "      <td>2080.321850</td>\n",
       "      <td>1.509941e+04</td>\n",
       "      <td>1.494096</td>\n",
       "      <td>0.006760</td>\n",
       "      <td>0.233181</td>\n",
       "      <td>7.657915</td>\n",
       "      <td>1788.596842</td>\n",
       "      <td>291.851724</td>\n",
       "      <td>1970.999676</td>\n",
       "      <td>83.636778</td>\n",
       "      <td>98077.951845</td>\n",
       "      <td>47.560093</td>\n",
       "      <td>-122.213982</td>\n",
       "      <td>1986.620318</td>\n",
       "      <td>12758.283512</td>\n",
       "    </tr>\n",
       "    <tr>\n",
       "      <th>std</th>\n",
       "      <td>3.673681e+05</td>\n",
       "      <td>0.926299</td>\n",
       "      <td>0.768984</td>\n",
       "      <td>918.106125</td>\n",
       "      <td>4.141264e+04</td>\n",
       "      <td>0.539683</td>\n",
       "      <td>0.081944</td>\n",
       "      <td>0.764673</td>\n",
       "      <td>1.173200</td>\n",
       "      <td>827.759761</td>\n",
       "      <td>437.822440</td>\n",
       "      <td>29.375234</td>\n",
       "      <td>362.629604</td>\n",
       "      <td>53.513072</td>\n",
       "      <td>0.138552</td>\n",
       "      <td>0.140724</td>\n",
       "      <td>685.230472</td>\n",
       "      <td>27274.441950</td>\n",
       "    </tr>\n",
       "    <tr>\n",
       "      <th>min</th>\n",
       "      <td>7.800000e+04</td>\n",
       "      <td>1.000000</td>\n",
       "      <td>0.500000</td>\n",
       "      <td>370.000000</td>\n",
       "      <td>5.200000e+02</td>\n",
       "      <td>1.000000</td>\n",
       "      <td>0.000000</td>\n",
       "      <td>0.000000</td>\n",
       "      <td>3.000000</td>\n",
       "      <td>370.000000</td>\n",
       "      <td>0.000000</td>\n",
       "      <td>1900.000000</td>\n",
       "      <td>0.000000</td>\n",
       "      <td>98001.000000</td>\n",
       "      <td>47.155900</td>\n",
       "      <td>-122.519000</td>\n",
       "      <td>399.000000</td>\n",
       "      <td>651.000000</td>\n",
       "    </tr>\n",
       "    <tr>\n",
       "      <th>25%</th>\n",
       "      <td>3.220000e+05</td>\n",
       "      <td>3.000000</td>\n",
       "      <td>1.750000</td>\n",
       "      <td>1430.000000</td>\n",
       "      <td>5.040000e+03</td>\n",
       "      <td>1.000000</td>\n",
       "      <td>0.000000</td>\n",
       "      <td>0.000000</td>\n",
       "      <td>7.000000</td>\n",
       "      <td>1190.000000</td>\n",
       "      <td>0.000000</td>\n",
       "      <td>1951.000000</td>\n",
       "      <td>0.000000</td>\n",
       "      <td>98033.000000</td>\n",
       "      <td>47.471100</td>\n",
       "      <td>-122.328000</td>\n",
       "      <td>1490.000000</td>\n",
       "      <td>5100.000000</td>\n",
       "    </tr>\n",
       "    <tr>\n",
       "      <th>50%</th>\n",
       "      <td>4.500000e+05</td>\n",
       "      <td>3.000000</td>\n",
       "      <td>2.250000</td>\n",
       "      <td>1910.000000</td>\n",
       "      <td>7.618000e+03</td>\n",
       "      <td>1.500000</td>\n",
       "      <td>0.000000</td>\n",
       "      <td>0.000000</td>\n",
       "      <td>7.000000</td>\n",
       "      <td>1560.000000</td>\n",
       "      <td>0.000000</td>\n",
       "      <td>1975.000000</td>\n",
       "      <td>0.000000</td>\n",
       "      <td>98065.000000</td>\n",
       "      <td>47.571800</td>\n",
       "      <td>-122.231000</td>\n",
       "      <td>1840.000000</td>\n",
       "      <td>7620.000000</td>\n",
       "    </tr>\n",
       "    <tr>\n",
       "      <th>75%</th>\n",
       "      <td>6.450000e+05</td>\n",
       "      <td>4.000000</td>\n",
       "      <td>2.500000</td>\n",
       "      <td>2550.000000</td>\n",
       "      <td>1.068500e+04</td>\n",
       "      <td>2.000000</td>\n",
       "      <td>0.000000</td>\n",
       "      <td>0.000000</td>\n",
       "      <td>8.000000</td>\n",
       "      <td>2210.000000</td>\n",
       "      <td>550.000000</td>\n",
       "      <td>1997.000000</td>\n",
       "      <td>0.000000</td>\n",
       "      <td>98118.000000</td>\n",
       "      <td>47.678000</td>\n",
       "      <td>-122.125000</td>\n",
       "      <td>2360.000000</td>\n",
       "      <td>10083.000000</td>\n",
       "    </tr>\n",
       "    <tr>\n",
       "      <th>max</th>\n",
       "      <td>7.700000e+06</td>\n",
       "      <td>33.000000</td>\n",
       "      <td>8.000000</td>\n",
       "      <td>13540.000000</td>\n",
       "      <td>1.651359e+06</td>\n",
       "      <td>3.500000</td>\n",
       "      <td>1.000000</td>\n",
       "      <td>4.000000</td>\n",
       "      <td>13.000000</td>\n",
       "      <td>9410.000000</td>\n",
       "      <td>4820.000000</td>\n",
       "      <td>2015.000000</td>\n",
       "      <td>2015.000000</td>\n",
       "      <td>98199.000000</td>\n",
       "      <td>47.777600</td>\n",
       "      <td>-121.315000</td>\n",
       "      <td>6210.000000</td>\n",
       "      <td>871200.000000</td>\n",
       "    </tr>\n",
       "  </tbody>\n",
       "</table>\n",
       "</div>"
      ],
      "text/plain": [
       "              price      bedrooms     bathrooms   sqft_living      sqft_lot  \\\n",
       "count  2.159700e+04  21597.000000  21597.000000  21597.000000  2.159700e+04   \n",
       "mean   5.402966e+05      3.373200      2.115826   2080.321850  1.509941e+04   \n",
       "std    3.673681e+05      0.926299      0.768984    918.106125  4.141264e+04   \n",
       "min    7.800000e+04      1.000000      0.500000    370.000000  5.200000e+02   \n",
       "25%    3.220000e+05      3.000000      1.750000   1430.000000  5.040000e+03   \n",
       "50%    4.500000e+05      3.000000      2.250000   1910.000000  7.618000e+03   \n",
       "75%    6.450000e+05      4.000000      2.500000   2550.000000  1.068500e+04   \n",
       "max    7.700000e+06     33.000000      8.000000  13540.000000  1.651359e+06   \n",
       "\n",
       "             floors    waterfront          view         grade    sqft_above  \\\n",
       "count  21597.000000  21597.000000  21597.000000  21597.000000  21597.000000   \n",
       "mean       1.494096      0.006760      0.233181      7.657915   1788.596842   \n",
       "std        0.539683      0.081944      0.764673      1.173200    827.759761   \n",
       "min        1.000000      0.000000      0.000000      3.000000    370.000000   \n",
       "25%        1.000000      0.000000      0.000000      7.000000   1190.000000   \n",
       "50%        1.500000      0.000000      0.000000      7.000000   1560.000000   \n",
       "75%        2.000000      0.000000      0.000000      8.000000   2210.000000   \n",
       "max        3.500000      1.000000      4.000000     13.000000   9410.000000   \n",
       "\n",
       "       sqft_basement      yr_built  yr_renovated       zipcode           lat  \\\n",
       "count   21597.000000  21597.000000  21597.000000  21597.000000  21597.000000   \n",
       "mean      291.851724   1970.999676     83.636778  98077.951845     47.560093   \n",
       "std       437.822440     29.375234    362.629604     53.513072      0.138552   \n",
       "min         0.000000   1900.000000      0.000000  98001.000000     47.155900   \n",
       "25%         0.000000   1951.000000      0.000000  98033.000000     47.471100   \n",
       "50%         0.000000   1975.000000      0.000000  98065.000000     47.571800   \n",
       "75%       550.000000   1997.000000      0.000000  98118.000000     47.678000   \n",
       "max      4820.000000   2015.000000   2015.000000  98199.000000     47.777600   \n",
       "\n",
       "               long  sqft_living15     sqft_lot15  \n",
       "count  21597.000000   21597.000000   21597.000000  \n",
       "mean    -122.213982    1986.620318   12758.283512  \n",
       "std        0.140724     685.230472   27274.441950  \n",
       "min     -122.519000     399.000000     651.000000  \n",
       "25%     -122.328000    1490.000000    5100.000000  \n",
       "50%     -122.231000    1840.000000    7620.000000  \n",
       "75%     -122.125000    2360.000000   10083.000000  \n",
       "max     -121.315000    6210.000000  871200.000000  "
      ]
     },
     "execution_count": 35,
     "metadata": {},
     "output_type": "execute_result"
    }
   ],
   "source": [
    "data_df.describe() # Get the statistics about the Dataset"
   ]
  },
  {
   "cell_type": "markdown",
   "metadata": {},
   "source": [
    "> The maximum entry in column bedrooms is 33 which is very higher than the mean value. This looks like an outlier"
   ]
  },
  {
   "cell_type": "code",
   "execution_count": 52,
   "metadata": {},
   "outputs": [
    {
     "name": "stdout",
     "output_type": "stream",
     "text": [
      "The mean price of 3-Bedrooms house is:  466276.59089983715\n"
     ]
    }
   ],
   "source": [
    "bedrooms = data_df.groupby('bedrooms')\n",
    "bedrooms_3 = bedrooms.get_group(3)\n",
    "print('The mean price of 3-Bedrooms house is: ', '{}'.format(bedrooms_3['price'].mean()))"
   ]
  },
  {
   "cell_type": "code",
   "execution_count": 53,
   "metadata": {},
   "outputs": [
    {
     "name": "stdout",
     "output_type": "stream",
     "text": [
      "The price of the 33-Bedrooms house is:  640000.0\n"
     ]
    }
   ],
   "source": [
    "# Get the price of the 33 bedrooms House\n",
    "print('The price of the 33-Bedrooms house is: ', '{}'.format(list(data_df['price'].loc[data_df['bedrooms'] == 33])[0]))"
   ]
  },
  {
   "cell_type": "markdown",
   "metadata": {},
   "source": [
    "> The price of the 33 Bedrooms house is very close to the mean price of the 3 bedrooms houses with 33 bedrooms in it.\n",
    "> This value might be an entry error. So, the value will be replaced with 3"
   ]
  },
  {
   "cell_type": "code",
   "execution_count": 31,
   "metadata": {},
   "outputs": [
    {
     "data": {
      "text/plain": [
       "15856    640000.0\n",
       "Name: price, dtype: float64"
      ]
     },
     "execution_count": 31,
     "metadata": {},
     "output_type": "execute_result"
    }
   ],
   "source": []
  },
  {
   "cell_type": "code",
   "execution_count": 37,
   "metadata": {},
   "outputs": [
    {
     "data": {
      "text/plain": [
       "'----------------------------------------------------------------------------------------------------'"
      ]
     },
     "metadata": {},
     "output_type": "display_data"
    },
    {
     "data": {
      "text/plain": [
       "date             False\n",
       "price            False\n",
       "bedrooms         False\n",
       "bathrooms        False\n",
       "sqft_living      False\n",
       "sqft_lot         False\n",
       "floors           False\n",
       "waterfront       False\n",
       "view             False\n",
       "condition        False\n",
       "grade            False\n",
       "sqft_above       False\n",
       "sqft_basement    False\n",
       "yr_built         False\n",
       "yr_renovated     False\n",
       "zipcode          False\n",
       "lat              False\n",
       "long             False\n",
       "sqft_living15    False\n",
       "sqft_lot15       False\n",
       "dtype: bool"
      ]
     },
     "metadata": {},
     "output_type": "display_data"
    }
   ],
   "source": [
    "# Display the nulls\n",
    "display(\"-\"*100)\n",
    "display(data_df.isnull().any())"
   ]
  },
  {
   "cell_type": "code",
   "execution_count": 38,
   "metadata": {},
   "outputs": [],
   "source": [
    "# Get the summary in another dataframe\n",
    "df_desc = data_df.describe()"
   ]
  },
  {
   "cell_type": "code",
   "execution_count": 39,
   "metadata": {},
   "outputs": [
    {
     "data": {
      "text/html": [
       "<div>\n",
       "<style scoped>\n",
       "    .dataframe tbody tr th:only-of-type {\n",
       "        vertical-align: middle;\n",
       "    }\n",
       "\n",
       "    .dataframe tbody tr th {\n",
       "        vertical-align: top;\n",
       "    }\n",
       "\n",
       "    .dataframe thead th {\n",
       "        text-align: right;\n",
       "    }\n",
       "</style>\n",
       "<table border=\"1\" class=\"dataframe\">\n",
       "  <thead>\n",
       "    <tr style=\"text-align: right;\">\n",
       "      <th></th>\n",
       "      <th>price</th>\n",
       "      <th>bedrooms</th>\n",
       "      <th>bathrooms</th>\n",
       "      <th>sqft_living</th>\n",
       "      <th>sqft_lot</th>\n",
       "      <th>floors</th>\n",
       "      <th>waterfront</th>\n",
       "      <th>view</th>\n",
       "      <th>grade</th>\n",
       "      <th>sqft_above</th>\n",
       "      <th>sqft_basement</th>\n",
       "      <th>yr_built</th>\n",
       "      <th>yr_renovated</th>\n",
       "      <th>zipcode</th>\n",
       "      <th>lat</th>\n",
       "      <th>long</th>\n",
       "      <th>sqft_living15</th>\n",
       "      <th>sqft_lot15</th>\n",
       "    </tr>\n",
       "  </thead>\n",
       "  <tbody>\n",
       "    <tr>\n",
       "      <th>count</th>\n",
       "      <td>2.159700e+04</td>\n",
       "      <td>21597.000000</td>\n",
       "      <td>21597.000000</td>\n",
       "      <td>21597.000000</td>\n",
       "      <td>2.159700e+04</td>\n",
       "      <td>21597.000000</td>\n",
       "      <td>21597.000000</td>\n",
       "      <td>21597.000000</td>\n",
       "      <td>21597.000000</td>\n",
       "      <td>21597.000000</td>\n",
       "      <td>21597.000000</td>\n",
       "      <td>21597.000000</td>\n",
       "      <td>21597.000000</td>\n",
       "      <td>21597.000000</td>\n",
       "      <td>21597.000000</td>\n",
       "      <td>21597.000000</td>\n",
       "      <td>21597.000000</td>\n",
       "      <td>21597.000000</td>\n",
       "    </tr>\n",
       "    <tr>\n",
       "      <th>mean</th>\n",
       "      <td>5.402966e+05</td>\n",
       "      <td>3.373200</td>\n",
       "      <td>2.115826</td>\n",
       "      <td>2080.321850</td>\n",
       "      <td>1.509941e+04</td>\n",
       "      <td>1.494096</td>\n",
       "      <td>0.006760</td>\n",
       "      <td>0.233181</td>\n",
       "      <td>7.657915</td>\n",
       "      <td>1788.596842</td>\n",
       "      <td>291.851724</td>\n",
       "      <td>1970.999676</td>\n",
       "      <td>83.636778</td>\n",
       "      <td>98077.951845</td>\n",
       "      <td>47.560093</td>\n",
       "      <td>-122.213982</td>\n",
       "      <td>1986.620318</td>\n",
       "      <td>12758.283512</td>\n",
       "    </tr>\n",
       "    <tr>\n",
       "      <th>std</th>\n",
       "      <td>3.673681e+05</td>\n",
       "      <td>0.926299</td>\n",
       "      <td>0.768984</td>\n",
       "      <td>918.106125</td>\n",
       "      <td>4.141264e+04</td>\n",
       "      <td>0.539683</td>\n",
       "      <td>0.081944</td>\n",
       "      <td>0.764673</td>\n",
       "      <td>1.173200</td>\n",
       "      <td>827.759761</td>\n",
       "      <td>437.822440</td>\n",
       "      <td>29.375234</td>\n",
       "      <td>362.629604</td>\n",
       "      <td>53.513072</td>\n",
       "      <td>0.138552</td>\n",
       "      <td>0.140724</td>\n",
       "      <td>685.230472</td>\n",
       "      <td>27274.441950</td>\n",
       "    </tr>\n",
       "    <tr>\n",
       "      <th>min</th>\n",
       "      <td>7.800000e+04</td>\n",
       "      <td>1.000000</td>\n",
       "      <td>0.500000</td>\n",
       "      <td>370.000000</td>\n",
       "      <td>5.200000e+02</td>\n",
       "      <td>1.000000</td>\n",
       "      <td>0.000000</td>\n",
       "      <td>0.000000</td>\n",
       "      <td>3.000000</td>\n",
       "      <td>370.000000</td>\n",
       "      <td>0.000000</td>\n",
       "      <td>1900.000000</td>\n",
       "      <td>0.000000</td>\n",
       "      <td>98001.000000</td>\n",
       "      <td>47.155900</td>\n",
       "      <td>-122.519000</td>\n",
       "      <td>399.000000</td>\n",
       "      <td>651.000000</td>\n",
       "    </tr>\n",
       "    <tr>\n",
       "      <th>25%</th>\n",
       "      <td>3.220000e+05</td>\n",
       "      <td>3.000000</td>\n",
       "      <td>1.750000</td>\n",
       "      <td>1430.000000</td>\n",
       "      <td>5.040000e+03</td>\n",
       "      <td>1.000000</td>\n",
       "      <td>0.000000</td>\n",
       "      <td>0.000000</td>\n",
       "      <td>7.000000</td>\n",
       "      <td>1190.000000</td>\n",
       "      <td>0.000000</td>\n",
       "      <td>1951.000000</td>\n",
       "      <td>0.000000</td>\n",
       "      <td>98033.000000</td>\n",
       "      <td>47.471100</td>\n",
       "      <td>-122.328000</td>\n",
       "      <td>1490.000000</td>\n",
       "      <td>5100.000000</td>\n",
       "    </tr>\n",
       "    <tr>\n",
       "      <th>50%</th>\n",
       "      <td>4.500000e+05</td>\n",
       "      <td>3.000000</td>\n",
       "      <td>2.250000</td>\n",
       "      <td>1910.000000</td>\n",
       "      <td>7.618000e+03</td>\n",
       "      <td>1.500000</td>\n",
       "      <td>0.000000</td>\n",
       "      <td>0.000000</td>\n",
       "      <td>7.000000</td>\n",
       "      <td>1560.000000</td>\n",
       "      <td>0.000000</td>\n",
       "      <td>1975.000000</td>\n",
       "      <td>0.000000</td>\n",
       "      <td>98065.000000</td>\n",
       "      <td>47.571800</td>\n",
       "      <td>-122.231000</td>\n",
       "      <td>1840.000000</td>\n",
       "      <td>7620.000000</td>\n",
       "    </tr>\n",
       "    <tr>\n",
       "      <th>75%</th>\n",
       "      <td>6.450000e+05</td>\n",
       "      <td>4.000000</td>\n",
       "      <td>2.500000</td>\n",
       "      <td>2550.000000</td>\n",
       "      <td>1.068500e+04</td>\n",
       "      <td>2.000000</td>\n",
       "      <td>0.000000</td>\n",
       "      <td>0.000000</td>\n",
       "      <td>8.000000</td>\n",
       "      <td>2210.000000</td>\n",
       "      <td>550.000000</td>\n",
       "      <td>1997.000000</td>\n",
       "      <td>0.000000</td>\n",
       "      <td>98118.000000</td>\n",
       "      <td>47.678000</td>\n",
       "      <td>-122.125000</td>\n",
       "      <td>2360.000000</td>\n",
       "      <td>10083.000000</td>\n",
       "    </tr>\n",
       "    <tr>\n",
       "      <th>max</th>\n",
       "      <td>7.700000e+06</td>\n",
       "      <td>33.000000</td>\n",
       "      <td>8.000000</td>\n",
       "      <td>13540.000000</td>\n",
       "      <td>1.651359e+06</td>\n",
       "      <td>3.500000</td>\n",
       "      <td>1.000000</td>\n",
       "      <td>4.000000</td>\n",
       "      <td>13.000000</td>\n",
       "      <td>9410.000000</td>\n",
       "      <td>4820.000000</td>\n",
       "      <td>2015.000000</td>\n",
       "      <td>2015.000000</td>\n",
       "      <td>98199.000000</td>\n",
       "      <td>47.777600</td>\n",
       "      <td>-121.315000</td>\n",
       "      <td>6210.000000</td>\n",
       "      <td>871200.000000</td>\n",
       "    </tr>\n",
       "  </tbody>\n",
       "</table>\n",
       "</div>"
      ],
      "text/plain": [
       "              price      bedrooms     bathrooms   sqft_living      sqft_lot  \\\n",
       "count  2.159700e+04  21597.000000  21597.000000  21597.000000  2.159700e+04   \n",
       "mean   5.402966e+05      3.373200      2.115826   2080.321850  1.509941e+04   \n",
       "std    3.673681e+05      0.926299      0.768984    918.106125  4.141264e+04   \n",
       "min    7.800000e+04      1.000000      0.500000    370.000000  5.200000e+02   \n",
       "25%    3.220000e+05      3.000000      1.750000   1430.000000  5.040000e+03   \n",
       "50%    4.500000e+05      3.000000      2.250000   1910.000000  7.618000e+03   \n",
       "75%    6.450000e+05      4.000000      2.500000   2550.000000  1.068500e+04   \n",
       "max    7.700000e+06     33.000000      8.000000  13540.000000  1.651359e+06   \n",
       "\n",
       "             floors    waterfront          view         grade    sqft_above  \\\n",
       "count  21597.000000  21597.000000  21597.000000  21597.000000  21597.000000   \n",
       "mean       1.494096      0.006760      0.233181      7.657915   1788.596842   \n",
       "std        0.539683      0.081944      0.764673      1.173200    827.759761   \n",
       "min        1.000000      0.000000      0.000000      3.000000    370.000000   \n",
       "25%        1.000000      0.000000      0.000000      7.000000   1190.000000   \n",
       "50%        1.500000      0.000000      0.000000      7.000000   1560.000000   \n",
       "75%        2.000000      0.000000      0.000000      8.000000   2210.000000   \n",
       "max        3.500000      1.000000      4.000000     13.000000   9410.000000   \n",
       "\n",
       "       sqft_basement      yr_built  yr_renovated       zipcode           lat  \\\n",
       "count   21597.000000  21597.000000  21597.000000  21597.000000  21597.000000   \n",
       "mean      291.851724   1970.999676     83.636778  98077.951845     47.560093   \n",
       "std       437.822440     29.375234    362.629604     53.513072      0.138552   \n",
       "min         0.000000   1900.000000      0.000000  98001.000000     47.155900   \n",
       "25%         0.000000   1951.000000      0.000000  98033.000000     47.471100   \n",
       "50%         0.000000   1975.000000      0.000000  98065.000000     47.571800   \n",
       "75%       550.000000   1997.000000      0.000000  98118.000000     47.678000   \n",
       "max      4820.000000   2015.000000   2015.000000  98199.000000     47.777600   \n",
       "\n",
       "               long  sqft_living15     sqft_lot15  \n",
       "count  21597.000000   21597.000000   21597.000000  \n",
       "mean    -122.213982    1986.620318   12758.283512  \n",
       "std        0.140724     685.230472   27274.441950  \n",
       "min     -122.519000     399.000000     651.000000  \n",
       "25%     -122.328000    1490.000000    5100.000000  \n",
       "50%     -122.231000    1840.000000    7620.000000  \n",
       "75%     -122.125000    2360.000000   10083.000000  \n",
       "max     -121.315000    6210.000000  871200.000000  "
      ]
     },
     "execution_count": 39,
     "metadata": {},
     "output_type": "execute_result"
    }
   ],
   "source": [
    "df_desc"
   ]
  },
  {
   "cell_type": "code",
   "execution_count": 40,
   "metadata": {},
   "outputs": [],
   "source": [
    "# Add standard deviation metric\n",
    "df_desc.loc['3_std_above'] = df_desc.loc['mean'] + (df_desc.loc['std'] * 3)\n",
    "df_desc.loc['3_std_below'] = df_desc.loc['mean'] - (df_desc.loc['std'] * 3)"
   ]
  },
  {
   "cell_type": "code",
   "execution_count": 41,
   "metadata": {},
   "outputs": [
    {
     "data": {
      "text/html": [
       "<div>\n",
       "<style scoped>\n",
       "    .dataframe tbody tr th:only-of-type {\n",
       "        vertical-align: middle;\n",
       "    }\n",
       "\n",
       "    .dataframe tbody tr th {\n",
       "        vertical-align: top;\n",
       "    }\n",
       "\n",
       "    .dataframe thead th {\n",
       "        text-align: right;\n",
       "    }\n",
       "</style>\n",
       "<table border=\"1\" class=\"dataframe\">\n",
       "  <thead>\n",
       "    <tr style=\"text-align: right;\">\n",
       "      <th></th>\n",
       "      <th>price</th>\n",
       "      <th>bedrooms</th>\n",
       "      <th>bathrooms</th>\n",
       "      <th>sqft_living</th>\n",
       "      <th>sqft_lot</th>\n",
       "      <th>floors</th>\n",
       "      <th>waterfront</th>\n",
       "      <th>view</th>\n",
       "      <th>grade</th>\n",
       "      <th>sqft_above</th>\n",
       "      <th>sqft_basement</th>\n",
       "      <th>yr_built</th>\n",
       "      <th>yr_renovated</th>\n",
       "      <th>zipcode</th>\n",
       "      <th>lat</th>\n",
       "      <th>long</th>\n",
       "      <th>sqft_living15</th>\n",
       "      <th>sqft_lot15</th>\n",
       "    </tr>\n",
       "  </thead>\n",
       "  <tbody>\n",
       "    <tr>\n",
       "      <th>count</th>\n",
       "      <td>2.159700e+04</td>\n",
       "      <td>21597.000000</td>\n",
       "      <td>21597.000000</td>\n",
       "      <td>21597.000000</td>\n",
       "      <td>2.159700e+04</td>\n",
       "      <td>21597.000000</td>\n",
       "      <td>21597.000000</td>\n",
       "      <td>21597.000000</td>\n",
       "      <td>21597.000000</td>\n",
       "      <td>21597.000000</td>\n",
       "      <td>21597.000000</td>\n",
       "      <td>21597.000000</td>\n",
       "      <td>21597.000000</td>\n",
       "      <td>21597.000000</td>\n",
       "      <td>21597.000000</td>\n",
       "      <td>21597.000000</td>\n",
       "      <td>21597.000000</td>\n",
       "      <td>21597.000000</td>\n",
       "    </tr>\n",
       "    <tr>\n",
       "      <th>mean</th>\n",
       "      <td>5.402966e+05</td>\n",
       "      <td>3.373200</td>\n",
       "      <td>2.115826</td>\n",
       "      <td>2080.321850</td>\n",
       "      <td>1.509941e+04</td>\n",
       "      <td>1.494096</td>\n",
       "      <td>0.006760</td>\n",
       "      <td>0.233181</td>\n",
       "      <td>7.657915</td>\n",
       "      <td>1788.596842</td>\n",
       "      <td>291.851724</td>\n",
       "      <td>1970.999676</td>\n",
       "      <td>83.636778</td>\n",
       "      <td>98077.951845</td>\n",
       "      <td>47.560093</td>\n",
       "      <td>-122.213982</td>\n",
       "      <td>1986.620318</td>\n",
       "      <td>12758.283512</td>\n",
       "    </tr>\n",
       "    <tr>\n",
       "      <th>std</th>\n",
       "      <td>3.673681e+05</td>\n",
       "      <td>0.926299</td>\n",
       "      <td>0.768984</td>\n",
       "      <td>918.106125</td>\n",
       "      <td>4.141264e+04</td>\n",
       "      <td>0.539683</td>\n",
       "      <td>0.081944</td>\n",
       "      <td>0.764673</td>\n",
       "      <td>1.173200</td>\n",
       "      <td>827.759761</td>\n",
       "      <td>437.822440</td>\n",
       "      <td>29.375234</td>\n",
       "      <td>362.629604</td>\n",
       "      <td>53.513072</td>\n",
       "      <td>0.138552</td>\n",
       "      <td>0.140724</td>\n",
       "      <td>685.230472</td>\n",
       "      <td>27274.441950</td>\n",
       "    </tr>\n",
       "    <tr>\n",
       "      <th>min</th>\n",
       "      <td>7.800000e+04</td>\n",
       "      <td>1.000000</td>\n",
       "      <td>0.500000</td>\n",
       "      <td>370.000000</td>\n",
       "      <td>5.200000e+02</td>\n",
       "      <td>1.000000</td>\n",
       "      <td>0.000000</td>\n",
       "      <td>0.000000</td>\n",
       "      <td>3.000000</td>\n",
       "      <td>370.000000</td>\n",
       "      <td>0.000000</td>\n",
       "      <td>1900.000000</td>\n",
       "      <td>0.000000</td>\n",
       "      <td>98001.000000</td>\n",
       "      <td>47.155900</td>\n",
       "      <td>-122.519000</td>\n",
       "      <td>399.000000</td>\n",
       "      <td>651.000000</td>\n",
       "    </tr>\n",
       "    <tr>\n",
       "      <th>25%</th>\n",
       "      <td>3.220000e+05</td>\n",
       "      <td>3.000000</td>\n",
       "      <td>1.750000</td>\n",
       "      <td>1430.000000</td>\n",
       "      <td>5.040000e+03</td>\n",
       "      <td>1.000000</td>\n",
       "      <td>0.000000</td>\n",
       "      <td>0.000000</td>\n",
       "      <td>7.000000</td>\n",
       "      <td>1190.000000</td>\n",
       "      <td>0.000000</td>\n",
       "      <td>1951.000000</td>\n",
       "      <td>0.000000</td>\n",
       "      <td>98033.000000</td>\n",
       "      <td>47.471100</td>\n",
       "      <td>-122.328000</td>\n",
       "      <td>1490.000000</td>\n",
       "      <td>5100.000000</td>\n",
       "    </tr>\n",
       "    <tr>\n",
       "      <th>50%</th>\n",
       "      <td>4.500000e+05</td>\n",
       "      <td>3.000000</td>\n",
       "      <td>2.250000</td>\n",
       "      <td>1910.000000</td>\n",
       "      <td>7.618000e+03</td>\n",
       "      <td>1.500000</td>\n",
       "      <td>0.000000</td>\n",
       "      <td>0.000000</td>\n",
       "      <td>7.000000</td>\n",
       "      <td>1560.000000</td>\n",
       "      <td>0.000000</td>\n",
       "      <td>1975.000000</td>\n",
       "      <td>0.000000</td>\n",
       "      <td>98065.000000</td>\n",
       "      <td>47.571800</td>\n",
       "      <td>-122.231000</td>\n",
       "      <td>1840.000000</td>\n",
       "      <td>7620.000000</td>\n",
       "    </tr>\n",
       "    <tr>\n",
       "      <th>75%</th>\n",
       "      <td>6.450000e+05</td>\n",
       "      <td>4.000000</td>\n",
       "      <td>2.500000</td>\n",
       "      <td>2550.000000</td>\n",
       "      <td>1.068500e+04</td>\n",
       "      <td>2.000000</td>\n",
       "      <td>0.000000</td>\n",
       "      <td>0.000000</td>\n",
       "      <td>8.000000</td>\n",
       "      <td>2210.000000</td>\n",
       "      <td>550.000000</td>\n",
       "      <td>1997.000000</td>\n",
       "      <td>0.000000</td>\n",
       "      <td>98118.000000</td>\n",
       "      <td>47.678000</td>\n",
       "      <td>-122.125000</td>\n",
       "      <td>2360.000000</td>\n",
       "      <td>10083.000000</td>\n",
       "    </tr>\n",
       "    <tr>\n",
       "      <th>max</th>\n",
       "      <td>7.700000e+06</td>\n",
       "      <td>33.000000</td>\n",
       "      <td>8.000000</td>\n",
       "      <td>13540.000000</td>\n",
       "      <td>1.651359e+06</td>\n",
       "      <td>3.500000</td>\n",
       "      <td>1.000000</td>\n",
       "      <td>4.000000</td>\n",
       "      <td>13.000000</td>\n",
       "      <td>9410.000000</td>\n",
       "      <td>4820.000000</td>\n",
       "      <td>2015.000000</td>\n",
       "      <td>2015.000000</td>\n",
       "      <td>98199.000000</td>\n",
       "      <td>47.777600</td>\n",
       "      <td>-121.315000</td>\n",
       "      <td>6210.000000</td>\n",
       "      <td>871200.000000</td>\n",
       "    </tr>\n",
       "    <tr>\n",
       "      <th>3_std_above</th>\n",
       "      <td>1.642401e+06</td>\n",
       "      <td>6.152097</td>\n",
       "      <td>4.422779</td>\n",
       "      <td>4834.640225</td>\n",
       "      <td>1.393373e+05</td>\n",
       "      <td>3.113145</td>\n",
       "      <td>0.252592</td>\n",
       "      <td>2.527198</td>\n",
       "      <td>11.177514</td>\n",
       "      <td>4271.876126</td>\n",
       "      <td>1605.319045</td>\n",
       "      <td>2059.125378</td>\n",
       "      <td>1171.525590</td>\n",
       "      <td>98238.491062</td>\n",
       "      <td>47.975748</td>\n",
       "      <td>-121.791812</td>\n",
       "      <td>4042.311733</td>\n",
       "      <td>94581.609363</td>\n",
       "    </tr>\n",
       "    <tr>\n",
       "      <th>3_std_below</th>\n",
       "      <td>-5.618078e+05</td>\n",
       "      <td>0.594303</td>\n",
       "      <td>-0.191127</td>\n",
       "      <td>-673.996525</td>\n",
       "      <td>-1.091385e+05</td>\n",
       "      <td>-0.124952</td>\n",
       "      <td>-0.239072</td>\n",
       "      <td>-2.060837</td>\n",
       "      <td>4.138316</td>\n",
       "      <td>-694.682441</td>\n",
       "      <td>-1021.615597</td>\n",
       "      <td>1882.873973</td>\n",
       "      <td>-1004.252033</td>\n",
       "      <td>97917.412628</td>\n",
       "      <td>47.144438</td>\n",
       "      <td>-122.636153</td>\n",
       "      <td>-69.071098</td>\n",
       "      <td>-69065.042340</td>\n",
       "    </tr>\n",
       "  </tbody>\n",
       "</table>\n",
       "</div>"
      ],
      "text/plain": [
       "                    price      bedrooms     bathrooms   sqft_living  \\\n",
       "count        2.159700e+04  21597.000000  21597.000000  21597.000000   \n",
       "mean         5.402966e+05      3.373200      2.115826   2080.321850   \n",
       "std          3.673681e+05      0.926299      0.768984    918.106125   \n",
       "min          7.800000e+04      1.000000      0.500000    370.000000   \n",
       "25%          3.220000e+05      3.000000      1.750000   1430.000000   \n",
       "50%          4.500000e+05      3.000000      2.250000   1910.000000   \n",
       "75%          6.450000e+05      4.000000      2.500000   2550.000000   \n",
       "max          7.700000e+06     33.000000      8.000000  13540.000000   \n",
       "3_std_above  1.642401e+06      6.152097      4.422779   4834.640225   \n",
       "3_std_below -5.618078e+05      0.594303     -0.191127   -673.996525   \n",
       "\n",
       "                 sqft_lot        floors    waterfront          view  \\\n",
       "count        2.159700e+04  21597.000000  21597.000000  21597.000000   \n",
       "mean         1.509941e+04      1.494096      0.006760      0.233181   \n",
       "std          4.141264e+04      0.539683      0.081944      0.764673   \n",
       "min          5.200000e+02      1.000000      0.000000      0.000000   \n",
       "25%          5.040000e+03      1.000000      0.000000      0.000000   \n",
       "50%          7.618000e+03      1.500000      0.000000      0.000000   \n",
       "75%          1.068500e+04      2.000000      0.000000      0.000000   \n",
       "max          1.651359e+06      3.500000      1.000000      4.000000   \n",
       "3_std_above  1.393373e+05      3.113145      0.252592      2.527198   \n",
       "3_std_below -1.091385e+05     -0.124952     -0.239072     -2.060837   \n",
       "\n",
       "                    grade    sqft_above  sqft_basement      yr_built  \\\n",
       "count        21597.000000  21597.000000   21597.000000  21597.000000   \n",
       "mean             7.657915   1788.596842     291.851724   1970.999676   \n",
       "std              1.173200    827.759761     437.822440     29.375234   \n",
       "min              3.000000    370.000000       0.000000   1900.000000   \n",
       "25%              7.000000   1190.000000       0.000000   1951.000000   \n",
       "50%              7.000000   1560.000000       0.000000   1975.000000   \n",
       "75%              8.000000   2210.000000     550.000000   1997.000000   \n",
       "max             13.000000   9410.000000    4820.000000   2015.000000   \n",
       "3_std_above     11.177514   4271.876126    1605.319045   2059.125378   \n",
       "3_std_below      4.138316   -694.682441   -1021.615597   1882.873973   \n",
       "\n",
       "             yr_renovated       zipcode           lat          long  \\\n",
       "count        21597.000000  21597.000000  21597.000000  21597.000000   \n",
       "mean            83.636778  98077.951845     47.560093   -122.213982   \n",
       "std            362.629604     53.513072      0.138552      0.140724   \n",
       "min              0.000000  98001.000000     47.155900   -122.519000   \n",
       "25%              0.000000  98033.000000     47.471100   -122.328000   \n",
       "50%              0.000000  98065.000000     47.571800   -122.231000   \n",
       "75%              0.000000  98118.000000     47.678000   -122.125000   \n",
       "max           2015.000000  98199.000000     47.777600   -121.315000   \n",
       "3_std_above   1171.525590  98238.491062     47.975748   -121.791812   \n",
       "3_std_below  -1004.252033  97917.412628     47.144438   -122.636153   \n",
       "\n",
       "             sqft_living15     sqft_lot15  \n",
       "count         21597.000000   21597.000000  \n",
       "mean           1986.620318   12758.283512  \n",
       "std             685.230472   27274.441950  \n",
       "min             399.000000     651.000000  \n",
       "25%            1490.000000    5100.000000  \n",
       "50%            1840.000000    7620.000000  \n",
       "75%            2360.000000   10083.000000  \n",
       "max            6210.000000  871200.000000  \n",
       "3_std_above    4042.311733   94581.609363  \n",
       "3_std_below     -69.071098  -69065.042340  "
      ]
     },
     "execution_count": 41,
     "metadata": {},
     "output_type": "execute_result"
    }
   ],
   "source": [
    "df_desc"
   ]
  },
  {
   "cell_type": "code",
   "execution_count": null,
   "metadata": {},
   "outputs": [],
   "source": []
  },
  {
   "cell_type": "markdown",
   "metadata": {},
   "source": [
    "#### Filtering the Dataset\n",
    "> We are going to remove the outliers. We are going to remove all values that is 3 standard deviationabove the mean and 3 standard deviation below the mean"
   ]
  },
  {
   "cell_type": "code",
   "execution_count": 64,
   "metadata": {},
   "outputs": [
    {
     "data": {
      "image/png": "[encoded data removed]",
      "text/plain": [
       "<Figure size 432x288 with 1 Axes>"
      ]
     },
     "metadata": {
      "needs_background": "light"
     },
     "output_type": "display_data"
    }
   ],
   "source": [
    "# Boxplot \n",
    "boxplot = data_df.boxplot(column=['price'], grid=False, rot=45, fontsize=15)"
   ]
  },
  {
   "cell_type": "code",
   "execution_count": 58,
   "metadata": {},
   "outputs": [
    {
     "data": {
      "image/png": "[encoded data removed]",
      "text/plain": [
       "<Figure size 432x288 with 1 Axes>"
      ]
     },
     "metadata": {
      "needs_background": "light"
     },
     "output_type": "display_data"
    }
   ],
   "source": [
    "boxplot = data_df.boxplot(column=['sqft_living15'])"
   ]
  },
  {
   "cell_type": "code",
   "execution_count": 43,
   "metadata": {},
   "outputs": [],
   "source": [
    "# data_df = pd.get_dummies(data_df['condition'])"
   ]
  },
  {
   "cell_type": "code",
   "execution_count": 65,
   "metadata": {},
   "outputs": [
    {
     "data": {
      "text/plain": [
       "Index(['id', 'price', 'bedrooms', 'bathrooms', 'sqft_living', 'sqft_lot',\n",
       "       'floors', 'waterfront', 'grade', 'sqft_above', 'sqft_basement',\n",
       "       'yr_built', 'yr_renovated', 'sqft_living15', 'sqft_lot15',\n",
       "       'condition_1', 'condition_2', 'condition_3', 'condition_4',\n",
       "       'condition_5'],\n",
       "      dtype='object')"
      ]
     },
     "execution_count": 65,
     "metadata": {},
     "output_type": "execute_result"
    }
   ],
   "source": [
    "# Drop some columns. These columns will be droped\n",
    "data = data_df.drop(['date', 'zipcode', 'lat', 'long', 'view'], axis = 1)\n",
    "data_1 = pd.get_dummies(data, columns=['condition'])\n",
    "data_1.columns"
   ]
  },
  {
   "cell_type": "markdown",
   "metadata": {},
   "source": [
    "#### CREATE \"YEAR\" COLUMN TO GROUP THE DATASET"
   ]
  },
  {
   "cell_type": "code",
   "execution_count": 86,
   "metadata": {},
   "outputs": [],
   "source": [
    "# Create a list by Iterating over the Date column and pick the Year\n",
    "column = []\n",
    "num = 0\n",
    "while num < len(data_df):\n",
    "    column.append(data_df['date'][num][-4:])\n",
    "    num += 1\n",
    "\n",
    "# Create another column \"Date\" with the column list created\n",
    "data_df['year'] = column"
   ]
  },
  {
   "cell_type": "code",
   "execution_count": 88,
   "metadata": {},
   "outputs": [],
   "source": [
    "year = data_df.groupby('year')\n",
    "\n",
    "# Split the dataframe to year_2014 and year_2015\n",
    "year_2014 = year.get_group('2014')\n",
    "year_2015 = year.get_group('2015')"
   ]
  },
  {
   "cell_type": "code",
   "execution_count": 89,
   "metadata": {},
   "outputs": [
    {
     "data": {
      "image/png": "[encoded data removed]",
      "text/plain": [
       "<Figure size 432x288 with 1 Axes>"
      ]
     },
     "metadata": {
      "needs_background": "light"
     },
     "output_type": "display_data"
    }
   ],
   "source": [
    "ax = plt.subplot()\n",
    "condition_bar = ['2014', '2015']\n",
    "grade_bar = [len(year_2014), len(year_2015)]\n",
    "plt.bar(range(len(condition_bar)), grade_bar, color = 'green')\n",
    "ax.set_xticks(range(0, len(condition_bar)))\n",
    "ax.set_xticklabels(condition_bar)\n",
    "plt.title('Number of Houses sold per Year')\n",
    "plt.xlabel('Years')\n",
    "plt.ylabel('Number of Houses')\n",
    "plt.show()"
   ]
  },
  {
   "cell_type": "markdown",
   "metadata": {},
   "source": [
    "> More than half of the Houses were sold in the year 2014"
   ]
  },
  {
   "cell_type": "markdown",
   "metadata": {},
   "source": [
    "#### EXPLORE THE DATASET BY THE STATE OF THE CONDITION OF THE HOUSES SOLD"
   ]
  },
  {
   "cell_type": "code",
   "execution_count": 92,
   "metadata": {},
   "outputs": [
    {
     "data": {
      "text/plain": [
       "array(['Good', 'Excellent', 'Very_Good', 'Bad', 'Not_Good'], dtype=object)"
      ]
     },
     "execution_count": 92,
     "metadata": {},
     "output_type": "execute_result"
    }
   ],
   "source": [
    "# Check the unique entries in the 'condition' column\n",
    "data_df['condition'].unique()"
   ]
  },
  {
   "cell_type": "code",
   "execution_count": 93,
   "metadata": {},
   "outputs": [],
   "source": [
    "condition = data_df.groupby('condition') # Group the data based on condition\n",
    "\n",
    "# Create different dataframe for each group\n",
    "bad = condition.get_group('Bad')\n",
    "not_good = condition.get_group('Not_Good')\n",
    "good = condition.get_group('Good')\n",
    "very_good = condition.get_group('Very_Good')\n",
    "excellent = condition.get_group('Excellent')"
   ]
  },
  {
   "cell_type": "code",
   "execution_count": 94,
   "metadata": {},
   "outputs": [
    {
     "data": {
      "image/png": "[encoded data removed]",
      "text/plain": [
       "<Figure size 432x288 with 1 Axes>"
      ]
     },
     "metadata": {
      "needs_background": "light"
     },
     "output_type": "display_data"
    }
   ],
   "source": [
    "# Bar Chart\n",
    "ax = plt.subplot()\n",
    "condition_bar = ['Bad', 'Not_Good', 'Good', 'Very_good', 'Excellent']\n",
    "grade_bar = [len(bad), len(not_good), len(good), len(very_good), len(excellent)]\n",
    "plt.bar(range(len(condition_bar)), grade_bar, color = 'green')\n",
    "ax.set_xticks(range(0, len(condition_bar)))\n",
    "ax.set_xticklabels(condition_bar)\n",
    "plt.title('Number of Houses in Each Condition Category')\n",
    "plt.xlabel('Condition of the Houses')\n",
    "plt.ylabel('Number of Houses')\n",
    "plt.show()"
   ]
  },
  {
   "cell_type": "code",
   "execution_count": 95,
   "metadata": {},
   "outputs": [
    {
     "data": {
      "image/png": "[encoded data removed]",
      "text/plain": [
       "<Figure size 720x576 with 1 Axes>"
      ]
     },
     "metadata": {},
     "output_type": "display_data"
    }
   ],
   "source": [
    "# Pie Chart\n",
    "num = [len(bad), len(not_good), len(good), len(very_good), len(excellent)]\n",
    "plt.figure(figsize=(10, 8))\n",
    "plt.pie(num, labels=condition_bar, autopct=\"%1d%%\")\n",
    "plt.axis('equal')\n",
    "plt.title('Data Set Based on House Conditions')\n",
    "plt.show()"
   ]
  },
  {
   "cell_type": "markdown",
   "metadata": {},
   "source": [
    "> The Dataset is biased. Most of the houses sold were in \"Good\" condition. This will really negatively affect the price prediction "
   ]
  },
  {
   "cell_type": "code",
   "execution_count": 96,
   "metadata": {},
   "outputs": [
    {
     "data": {
      "image/png": "[encoded data removed]",
      "text/plain": [
       "<Figure size 432x288 with 1 Axes>"
      ]
     },
     "metadata": {
      "needs_background": "light"
     },
     "output_type": "display_data"
    }
   ],
   "source": [
    "# Display the Average Grade in each condition categories\n",
    "\n",
    "grade_bar = [bad['grade'].mean(), not_good['grade'].mean(), good['grade'].mean(), very_good['grade'].mean(), excellent['grade'].mean()]\n",
    "plt.bar(range(len(condition_bar)), grade_bar, color = 'green')\n",
    "plt.title('Mean Grade from each Condition Categories')\n",
    "plt.xlabel('Condition of the Houses')\n",
    "plt.ylabel('Grade')\n",
    "plt.show()"
   ]
  },
  {
   "cell_type": "code",
   "execution_count": 97,
   "metadata": {},
   "outputs": [
    {
     "data": {
      "image/png": "[encoded data removed]",
      "text/plain": [
       "<Figure size 432x288 with 1 Axes>"
      ]
     },
     "metadata": {
      "needs_background": "light"
     },
     "output_type": "display_data"
    }
   ],
   "source": [
    "# Display the average price in each condition categories\n",
    "\n",
    "price_bar = [bad['price'].mean(), not_good['price'].mean(), good['price'].mean(), very_good['price'].mean(), excellent['price'].mean()]\n",
    "plt.bar(range(len(condition_bar)), price_bar, color = 'blue')\n",
    "plt.title('Average Price in Each Condition Category')\n",
    "plt.xlabel('Condition of the Houses')\n",
    "plt.ylabel('Average Price')\n",
    "plt.show()"
   ]
  },
  {
   "cell_type": "markdown",
   "metadata": {},
   "source": [
    "<div class=\"alert alert-block alert-info\">\n",
    "    \n",
    "### SECTION 3: MULTICOLLINEARITY CHECK\n",
    "\n",
    "<a id=\"section_4\"></a>\n",
    "\n",
    "* click here to go back to [Table of Contents](#section_0)"
   ]
  },
  {
   "cell_type": "markdown",
   "metadata": {},
   "source": [
    "> The precision in estimatiing an important regression coefficient or in predicting a response may be decreased if too many explanatory variables are included in the model. When a variable can can be explained well by the additional variables - a condition called **MultiCollinearity** - the variance inflation factor can be very high. The problem of multicollinearity is that the coefficient estimates tend to be unreliable. The standard errors of the slope coeeficients become artificially inflated. This leads to a greater problem that will incorrectly conclude that a variable is not statistially significant <br>\n",
    "Because of these drawbacks, we are going to check for multicollinearity"
   ]
  },
  {
   "cell_type": "code",
   "execution_count": 45,
   "metadata": {},
   "outputs": [
    {
     "data": {
      "text/html": [
       "<div>\n",
       "<style scoped>\n",
       "    .dataframe tbody tr th:only-of-type {\n",
       "        vertical-align: middle;\n",
       "    }\n",
       "\n",
       "    .dataframe tbody tr th {\n",
       "        vertical-align: top;\n",
       "    }\n",
       "\n",
       "    .dataframe thead th {\n",
       "        text-align: right;\n",
       "    }\n",
       "</style>\n",
       "<table border=\"1\" class=\"dataframe\">\n",
       "  <thead>\n",
       "    <tr style=\"text-align: right;\">\n",
       "      <th></th>\n",
       "      <th>price</th>\n",
       "      <th>bedrooms</th>\n",
       "      <th>bathrooms</th>\n",
       "      <th>sqft_living</th>\n",
       "      <th>sqft_lot</th>\n",
       "      <th>floors</th>\n",
       "      <th>waterfront</th>\n",
       "      <th>grade</th>\n",
       "      <th>sqft_above</th>\n",
       "      <th>sqft_basement</th>\n",
       "      <th>yr_built</th>\n",
       "      <th>yr_renovated</th>\n",
       "      <th>sqft_living15</th>\n",
       "      <th>sqft_lot15</th>\n",
       "      <th>condition_Bad</th>\n",
       "      <th>condition_Excellent</th>\n",
       "      <th>condition_Good</th>\n",
       "      <th>condition_Not_Good</th>\n",
       "      <th>condition_Very_Good</th>\n",
       "    </tr>\n",
       "  </thead>\n",
       "  <tbody>\n",
       "    <tr>\n",
       "      <th>price</th>\n",
       "      <td>1.000000</td>\n",
       "      <td>0.308787</td>\n",
       "      <td>0.525906</td>\n",
       "      <td>0.701917</td>\n",
       "      <td>0.089876</td>\n",
       "      <td>0.256804</td>\n",
       "      <td>0.264306</td>\n",
       "      <td>0.667951</td>\n",
       "      <td>0.605368</td>\n",
       "      <td>0.322192</td>\n",
       "      <td>0.053953</td>\n",
       "      <td>0.118125</td>\n",
       "      <td>0.585241</td>\n",
       "      <td>0.082845</td>\n",
       "      <td>-0.019886</td>\n",
       "      <td>0.057531</td>\n",
       "      <td>0.006948</td>\n",
       "      <td>-0.051432</td>\n",
       "      <td>-0.030759</td>\n",
       "    </tr>\n",
       "    <tr>\n",
       "      <th>bedrooms</th>\n",
       "      <td>0.308787</td>\n",
       "      <td>1.000000</td>\n",
       "      <td>0.514508</td>\n",
       "      <td>0.578212</td>\n",
       "      <td>0.032471</td>\n",
       "      <td>0.177944</td>\n",
       "      <td>-0.002127</td>\n",
       "      <td>0.356563</td>\n",
       "      <td>0.479386</td>\n",
       "      <td>0.299037</td>\n",
       "      <td>0.155670</td>\n",
       "      <td>0.016887</td>\n",
       "      <td>0.393406</td>\n",
       "      <td>0.030690</td>\n",
       "      <td>-0.032520</td>\n",
       "      <td>0.027500</td>\n",
       "      <td>0.005210</td>\n",
       "      <td>-0.049463</td>\n",
       "      <td>-0.009841</td>\n",
       "    </tr>\n",
       "    <tr>\n",
       "      <th>bathrooms</th>\n",
       "      <td>0.525906</td>\n",
       "      <td>0.514508</td>\n",
       "      <td>1.000000</td>\n",
       "      <td>0.755758</td>\n",
       "      <td>0.088373</td>\n",
       "      <td>0.502582</td>\n",
       "      <td>0.063629</td>\n",
       "      <td>0.665838</td>\n",
       "      <td>0.686668</td>\n",
       "      <td>0.279541</td>\n",
       "      <td>0.507173</td>\n",
       "      <td>0.046204</td>\n",
       "      <td>0.569884</td>\n",
       "      <td>0.088303</td>\n",
       "      <td>-0.042932</td>\n",
       "      <td>-0.034765</td>\n",
       "      <td>0.190790</td>\n",
       "      <td>-0.075933</td>\n",
       "      <td>-0.166756</td>\n",
       "    </tr>\n",
       "    <tr>\n",
       "      <th>sqft_living</th>\n",
       "      <td>0.701917</td>\n",
       "      <td>0.578212</td>\n",
       "      <td>0.755758</td>\n",
       "      <td>1.000000</td>\n",
       "      <td>0.173453</td>\n",
       "      <td>0.353953</td>\n",
       "      <td>0.104637</td>\n",
       "      <td>0.762779</td>\n",
       "      <td>0.876448</td>\n",
       "      <td>0.430190</td>\n",
       "      <td>0.318152</td>\n",
       "      <td>0.050438</td>\n",
       "      <td>0.756402</td>\n",
       "      <td>0.184342</td>\n",
       "      <td>-0.033246</td>\n",
       "      <td>-0.018284</td>\n",
       "      <td>0.102061</td>\n",
       "      <td>-0.063984</td>\n",
       "      <td>-0.083850</td>\n",
       "    </tr>\n",
       "    <tr>\n",
       "      <th>sqft_lot</th>\n",
       "      <td>0.089876</td>\n",
       "      <td>0.032471</td>\n",
       "      <td>0.088373</td>\n",
       "      <td>0.173453</td>\n",
       "      <td>1.000000</td>\n",
       "      <td>-0.004814</td>\n",
       "      <td>0.021459</td>\n",
       "      <td>0.114731</td>\n",
       "      <td>0.184139</td>\n",
       "      <td>0.015293</td>\n",
       "      <td>0.052946</td>\n",
       "      <td>0.004161</td>\n",
       "      <td>0.144763</td>\n",
       "      <td>0.718204</td>\n",
       "      <td>0.006265</td>\n",
       "      <td>-0.014452</td>\n",
       "      <td>-0.011589</td>\n",
       "      <td>0.037871</td>\n",
       "      <td>0.013284</td>\n",
       "    </tr>\n",
       "    <tr>\n",
       "      <th>floors</th>\n",
       "      <td>0.256804</td>\n",
       "      <td>0.177944</td>\n",
       "      <td>0.502582</td>\n",
       "      <td>0.353953</td>\n",
       "      <td>-0.004814</td>\n",
       "      <td>1.000000</td>\n",
       "      <td>0.020797</td>\n",
       "      <td>0.458794</td>\n",
       "      <td>0.523989</td>\n",
       "      <td>-0.242359</td>\n",
       "      <td>0.489193</td>\n",
       "      <td>0.003198</td>\n",
       "      <td>0.280102</td>\n",
       "      <td>-0.010722</td>\n",
       "      <td>-0.023029</td>\n",
       "      <td>-0.120546</td>\n",
       "      <td>0.317725</td>\n",
       "      <td>-0.055337</td>\n",
       "      <td>-0.257672</td>\n",
       "    </tr>\n",
       "    <tr>\n",
       "      <th>waterfront</th>\n",
       "      <td>0.264306</td>\n",
       "      <td>-0.002127</td>\n",
       "      <td>0.063629</td>\n",
       "      <td>0.104637</td>\n",
       "      <td>0.021459</td>\n",
       "      <td>0.020797</td>\n",
       "      <td>1.000000</td>\n",
       "      <td>0.082818</td>\n",
       "      <td>0.071778</td>\n",
       "      <td>0.083779</td>\n",
       "      <td>-0.024487</td>\n",
       "      <td>0.074099</td>\n",
       "      <td>0.083823</td>\n",
       "      <td>0.030658</td>\n",
       "      <td>0.012406</td>\n",
       "      <td>0.013637</td>\n",
       "      <td>-0.017498</td>\n",
       "      <td>-0.000954</td>\n",
       "      <td>0.009785</td>\n",
       "    </tr>\n",
       "    <tr>\n",
       "      <th>grade</th>\n",
       "      <td>0.667951</td>\n",
       "      <td>0.356563</td>\n",
       "      <td>0.665838</td>\n",
       "      <td>0.762779</td>\n",
       "      <td>0.114731</td>\n",
       "      <td>0.458794</td>\n",
       "      <td>0.082818</td>\n",
       "      <td>1.000000</td>\n",
       "      <td>0.756073</td>\n",
       "      <td>0.166397</td>\n",
       "      <td>0.447865</td>\n",
       "      <td>0.015085</td>\n",
       "      <td>0.713867</td>\n",
       "      <td>0.120981</td>\n",
       "      <td>-0.052897</td>\n",
       "      <td>-0.083974</td>\n",
       "      <td>0.196419</td>\n",
       "      <td>-0.084788</td>\n",
       "      <td>-0.140140</td>\n",
       "    </tr>\n",
       "    <tr>\n",
       "      <th>sqft_above</th>\n",
       "      <td>0.605368</td>\n",
       "      <td>0.479386</td>\n",
       "      <td>0.686668</td>\n",
       "      <td>0.876448</td>\n",
       "      <td>0.184139</td>\n",
       "      <td>0.523989</td>\n",
       "      <td>0.071778</td>\n",
       "      <td>0.756073</td>\n",
       "      <td>1.000000</td>\n",
       "      <td>-0.051781</td>\n",
       "      <td>0.424037</td>\n",
       "      <td>0.020045</td>\n",
       "      <td>0.731767</td>\n",
       "      <td>0.195077</td>\n",
       "      <td>-0.027236</td>\n",
       "      <td>-0.088596</td>\n",
       "      <td>0.194238</td>\n",
       "      <td>-0.057698</td>\n",
       "      <td>-0.142520</td>\n",
       "    </tr>\n",
       "    <tr>\n",
       "      <th>sqft_basement</th>\n",
       "      <td>0.322192</td>\n",
       "      <td>0.299037</td>\n",
       "      <td>0.279541</td>\n",
       "      <td>0.430190</td>\n",
       "      <td>0.015293</td>\n",
       "      <td>-0.242359</td>\n",
       "      <td>0.083779</td>\n",
       "      <td>0.166397</td>\n",
       "      <td>-0.051781</td>\n",
       "      <td>1.000000</td>\n",
       "      <td>-0.131202</td>\n",
       "      <td>0.066006</td>\n",
       "      <td>0.199577</td>\n",
       "      <td>0.016420</td>\n",
       "      <td>-0.017392</td>\n",
       "      <td>0.124712</td>\n",
       "      <td>-0.146876</td>\n",
       "      <td>-0.025129</td>\n",
       "      <td>0.089413</td>\n",
       "    </tr>\n",
       "    <tr>\n",
       "      <th>yr_built</th>\n",
       "      <td>0.053953</td>\n",
       "      <td>0.155670</td>\n",
       "      <td>0.507173</td>\n",
       "      <td>0.318152</td>\n",
       "      <td>0.052946</td>\n",
       "      <td>0.489193</td>\n",
       "      <td>-0.024487</td>\n",
       "      <td>0.447865</td>\n",
       "      <td>0.424037</td>\n",
       "      <td>-0.131202</td>\n",
       "      <td>1.000000</td>\n",
       "      <td>-0.204040</td>\n",
       "      <td>0.326377</td>\n",
       "      <td>0.070777</td>\n",
       "      <td>-0.050621</td>\n",
       "      <td>-0.244382</td>\n",
       "      <td>0.391418</td>\n",
       "      <td>-0.066977</td>\n",
       "      <td>-0.257155</td>\n",
       "    </tr>\n",
       "    <tr>\n",
       "      <th>yr_renovated</th>\n",
       "      <td>0.118125</td>\n",
       "      <td>0.016887</td>\n",
       "      <td>0.046204</td>\n",
       "      <td>0.050438</td>\n",
       "      <td>0.004161</td>\n",
       "      <td>0.003198</td>\n",
       "      <td>0.074099</td>\n",
       "      <td>0.015085</td>\n",
       "      <td>0.020045</td>\n",
       "      <td>0.066006</td>\n",
       "      <td>-0.204040</td>\n",
       "      <td>1.000000</td>\n",
       "      <td>-0.000224</td>\n",
       "      <td>0.003550</td>\n",
       "      <td>0.000238</td>\n",
       "      <td>-0.027078</td>\n",
       "      <td>0.064609</td>\n",
       "      <td>-0.008842</td>\n",
       "      <td>-0.051721</td>\n",
       "    </tr>\n",
       "    <tr>\n",
       "      <th>sqft_living15</th>\n",
       "      <td>0.585241</td>\n",
       "      <td>0.393406</td>\n",
       "      <td>0.569884</td>\n",
       "      <td>0.756402</td>\n",
       "      <td>0.144763</td>\n",
       "      <td>0.280102</td>\n",
       "      <td>0.083823</td>\n",
       "      <td>0.713867</td>\n",
       "      <td>0.731767</td>\n",
       "      <td>0.199577</td>\n",
       "      <td>0.326377</td>\n",
       "      <td>-0.000224</td>\n",
       "      <td>1.000000</td>\n",
       "      <td>0.183515</td>\n",
       "      <td>-0.009507</td>\n",
       "      <td>-0.061473</td>\n",
       "      <td>0.113671</td>\n",
       "      <td>-0.052141</td>\n",
       "      <td>-0.074361</td>\n",
       "    </tr>\n",
       "    <tr>\n",
       "      <th>sqft_lot15</th>\n",
       "      <td>0.082845</td>\n",
       "      <td>0.030690</td>\n",
       "      <td>0.088303</td>\n",
       "      <td>0.184342</td>\n",
       "      <td>0.718204</td>\n",
       "      <td>-0.010722</td>\n",
       "      <td>0.030658</td>\n",
       "      <td>0.120981</td>\n",
       "      <td>0.195077</td>\n",
       "      <td>0.016420</td>\n",
       "      <td>0.070777</td>\n",
       "      <td>0.003550</td>\n",
       "      <td>0.183515</td>\n",
       "      <td>1.000000</td>\n",
       "      <td>-0.004387</td>\n",
       "      <td>-0.017569</td>\n",
       "      <td>-0.012933</td>\n",
       "      <td>0.022377</td>\n",
       "      <td>0.020645</td>\n",
       "    </tr>\n",
       "    <tr>\n",
       "      <th>condition_Bad</th>\n",
       "      <td>-0.019886</td>\n",
       "      <td>-0.032520</td>\n",
       "      <td>-0.042932</td>\n",
       "      <td>-0.033246</td>\n",
       "      <td>0.006265</td>\n",
       "      <td>-0.023029</td>\n",
       "      <td>0.012406</td>\n",
       "      <td>-0.052897</td>\n",
       "      <td>-0.027236</td>\n",
       "      <td>-0.017392</td>\n",
       "      <td>-0.050621</td>\n",
       "      <td>0.000238</td>\n",
       "      <td>-0.009507</td>\n",
       "      <td>-0.004387</td>\n",
       "      <td>1.000000</td>\n",
       "      <td>-0.010722</td>\n",
       "      <td>-0.049879</td>\n",
       "      <td>-0.003266</td>\n",
       "      <td>-0.021897</td>\n",
       "    </tr>\n",
       "    <tr>\n",
       "      <th>condition_Excellent</th>\n",
       "      <td>0.057531</td>\n",
       "      <td>0.027500</td>\n",
       "      <td>-0.034765</td>\n",
       "      <td>-0.018284</td>\n",
       "      <td>-0.014452</td>\n",
       "      <td>-0.120546</td>\n",
       "      <td>0.013637</td>\n",
       "      <td>-0.083974</td>\n",
       "      <td>-0.088596</td>\n",
       "      <td>0.124712</td>\n",
       "      <td>-0.244382</td>\n",
       "      <td>-0.027078</td>\n",
       "      <td>-0.061473</td>\n",
       "      <td>-0.017569</td>\n",
       "      <td>-0.010722</td>\n",
       "      <td>1.000000</td>\n",
       "      <td>-0.397736</td>\n",
       "      <td>-0.026044</td>\n",
       "      <td>-0.174605</td>\n",
       "    </tr>\n",
       "    <tr>\n",
       "      <th>condition_Good</th>\n",
       "      <td>0.006948</td>\n",
       "      <td>0.005210</td>\n",
       "      <td>0.190790</td>\n",
       "      <td>0.102061</td>\n",
       "      <td>-0.011589</td>\n",
       "      <td>0.317725</td>\n",
       "      <td>-0.017498</td>\n",
       "      <td>0.196419</td>\n",
       "      <td>0.194238</td>\n",
       "      <td>-0.146876</td>\n",
       "      <td>0.391418</td>\n",
       "      <td>0.064609</td>\n",
       "      <td>0.113671</td>\n",
       "      <td>-0.012933</td>\n",
       "      <td>-0.049879</td>\n",
       "      <td>-0.397736</td>\n",
       "      <td>1.000000</td>\n",
       "      <td>-0.121163</td>\n",
       "      <td>-0.812294</td>\n",
       "    </tr>\n",
       "    <tr>\n",
       "      <th>condition_Not_Good</th>\n",
       "      <td>-0.051432</td>\n",
       "      <td>-0.049463</td>\n",
       "      <td>-0.075933</td>\n",
       "      <td>-0.063984</td>\n",
       "      <td>0.037871</td>\n",
       "      <td>-0.055337</td>\n",
       "      <td>-0.000954</td>\n",
       "      <td>-0.084788</td>\n",
       "      <td>-0.057698</td>\n",
       "      <td>-0.025129</td>\n",
       "      <td>-0.066977</td>\n",
       "      <td>-0.008842</td>\n",
       "      <td>-0.052141</td>\n",
       "      <td>0.022377</td>\n",
       "      <td>-0.003266</td>\n",
       "      <td>-0.026044</td>\n",
       "      <td>-0.121163</td>\n",
       "      <td>1.000000</td>\n",
       "      <td>-0.053190</td>\n",
       "    </tr>\n",
       "    <tr>\n",
       "      <th>condition_Very_Good</th>\n",
       "      <td>-0.030759</td>\n",
       "      <td>-0.009841</td>\n",
       "      <td>-0.166756</td>\n",
       "      <td>-0.083850</td>\n",
       "      <td>0.013284</td>\n",
       "      <td>-0.257672</td>\n",
       "      <td>0.009785</td>\n",
       "      <td>-0.140140</td>\n",
       "      <td>-0.142520</td>\n",
       "      <td>0.089413</td>\n",
       "      <td>-0.257155</td>\n",
       "      <td>-0.051721</td>\n",
       "      <td>-0.074361</td>\n",
       "      <td>0.020645</td>\n",
       "      <td>-0.021897</td>\n",
       "      <td>-0.174605</td>\n",
       "      <td>-0.812294</td>\n",
       "      <td>-0.053190</td>\n",
       "      <td>1.000000</td>\n",
       "    </tr>\n",
       "  </tbody>\n",
       "</table>\n",
       "</div>"
      ],
      "text/plain": [
       "                        price  bedrooms  bathrooms  sqft_living  sqft_lot  \\\n",
       "price                1.000000  0.308787   0.525906     0.701917  0.089876   \n",
       "bedrooms             0.308787  1.000000   0.514508     0.578212  0.032471   \n",
       "bathrooms            0.525906  0.514508   1.000000     0.755758  0.088373   \n",
       "sqft_living          0.701917  0.578212   0.755758     1.000000  0.173453   \n",
       "sqft_lot             0.089876  0.032471   0.088373     0.173453  1.000000   \n",
       "floors               0.256804  0.177944   0.502582     0.353953 -0.004814   \n",
       "waterfront           0.264306 -0.002127   0.063629     0.104637  0.021459   \n",
       "grade                0.667951  0.356563   0.665838     0.762779  0.114731   \n",
       "sqft_above           0.605368  0.479386   0.686668     0.876448  0.184139   \n",
       "sqft_basement        0.322192  0.299037   0.279541     0.430190  0.015293   \n",
       "yr_built             0.053953  0.155670   0.507173     0.318152  0.052946   \n",
       "yr_renovated         0.118125  0.016887   0.046204     0.050438  0.004161   \n",
       "sqft_living15        0.585241  0.393406   0.569884     0.756402  0.144763   \n",
       "sqft_lot15           0.082845  0.030690   0.088303     0.184342  0.718204   \n",
       "condition_Bad       -0.019886 -0.032520  -0.042932    -0.033246  0.006265   \n",
       "condition_Excellent  0.057531  0.027500  -0.034765    -0.018284 -0.014452   \n",
       "condition_Good       0.006948  0.005210   0.190790     0.102061 -0.011589   \n",
       "condition_Not_Good  -0.051432 -0.049463  -0.075933    -0.063984  0.037871   \n",
       "condition_Very_Good -0.030759 -0.009841  -0.166756    -0.083850  0.013284   \n",
       "\n",
       "                       floors  waterfront     grade  sqft_above  \\\n",
       "price                0.256804    0.264306  0.667951    0.605368   \n",
       "bedrooms             0.177944   -0.002127  0.356563    0.479386   \n",
       "bathrooms            0.502582    0.063629  0.665838    0.686668   \n",
       "sqft_living          0.353953    0.104637  0.762779    0.876448   \n",
       "sqft_lot            -0.004814    0.021459  0.114731    0.184139   \n",
       "floors               1.000000    0.020797  0.458794    0.523989   \n",
       "waterfront           0.020797    1.000000  0.082818    0.071778   \n",
       "grade                0.458794    0.082818  1.000000    0.756073   \n",
       "sqft_above           0.523989    0.071778  0.756073    1.000000   \n",
       "sqft_basement       -0.242359    0.083779  0.166397   -0.051781   \n",
       "yr_built             0.489193   -0.024487  0.447865    0.424037   \n",
       "yr_renovated         0.003198    0.074099  0.015085    0.020045   \n",
       "sqft_living15        0.280102    0.083823  0.713867    0.731767   \n",
       "sqft_lot15          -0.010722    0.030658  0.120981    0.195077   \n",
       "condition_Bad       -0.023029    0.012406 -0.052897   -0.027236   \n",
       "condition_Excellent -0.120546    0.013637 -0.083974   -0.088596   \n",
       "condition_Good       0.317725   -0.017498  0.196419    0.194238   \n",
       "condition_Not_Good  -0.055337   -0.000954 -0.084788   -0.057698   \n",
       "condition_Very_Good -0.257672    0.009785 -0.140140   -0.142520   \n",
       "\n",
       "                     sqft_basement  yr_built  yr_renovated  sqft_living15  \\\n",
       "price                     0.322192  0.053953      0.118125       0.585241   \n",
       "bedrooms                  0.299037  0.155670      0.016887       0.393406   \n",
       "bathrooms                 0.279541  0.507173      0.046204       0.569884   \n",
       "sqft_living               0.430190  0.318152      0.050438       0.756402   \n",
       "sqft_lot                  0.015293  0.052946      0.004161       0.144763   \n",
       "floors                   -0.242359  0.489193      0.003198       0.280102   \n",
       "waterfront                0.083779 -0.024487      0.074099       0.083823   \n",
       "grade                     0.166397  0.447865      0.015085       0.713867   \n",
       "sqft_above               -0.051781  0.424037      0.020045       0.731767   \n",
       "sqft_basement             1.000000 -0.131202      0.066006       0.199577   \n",
       "yr_built                 -0.131202  1.000000     -0.204040       0.326377   \n",
       "yr_renovated              0.066006 -0.204040      1.000000      -0.000224   \n",
       "sqft_living15             0.199577  0.326377     -0.000224       1.000000   \n",
       "sqft_lot15                0.016420  0.070777      0.003550       0.183515   \n",
       "condition_Bad            -0.017392 -0.050621      0.000238      -0.009507   \n",
       "condition_Excellent       0.124712 -0.244382     -0.027078      -0.061473   \n",
       "condition_Good           -0.146876  0.391418      0.064609       0.113671   \n",
       "condition_Not_Good       -0.025129 -0.066977     -0.008842      -0.052141   \n",
       "condition_Very_Good       0.089413 -0.257155     -0.051721      -0.074361   \n",
       "\n",
       "                     sqft_lot15  condition_Bad  condition_Excellent  \\\n",
       "price                  0.082845      -0.019886             0.057531   \n",
       "bedrooms               0.030690      -0.032520             0.027500   \n",
       "bathrooms              0.088303      -0.042932            -0.034765   \n",
       "sqft_living            0.184342      -0.033246            -0.018284   \n",
       "sqft_lot               0.718204       0.006265            -0.014452   \n",
       "floors                -0.010722      -0.023029            -0.120546   \n",
       "waterfront             0.030658       0.012406             0.013637   \n",
       "grade                  0.120981      -0.052897            -0.083974   \n",
       "sqft_above             0.195077      -0.027236            -0.088596   \n",
       "sqft_basement          0.016420      -0.017392             0.124712   \n",
       "yr_built               0.070777      -0.050621            -0.244382   \n",
       "yr_renovated           0.003550       0.000238            -0.027078   \n",
       "sqft_living15          0.183515      -0.009507            -0.061473   \n",
       "sqft_lot15             1.000000      -0.004387            -0.017569   \n",
       "condition_Bad         -0.004387       1.000000            -0.010722   \n",
       "condition_Excellent   -0.017569      -0.010722             1.000000   \n",
       "condition_Good        -0.012933      -0.049879            -0.397736   \n",
       "condition_Not_Good     0.022377      -0.003266            -0.026044   \n",
       "condition_Very_Good    0.020645      -0.021897            -0.174605   \n",
       "\n",
       "                     condition_Good  condition_Not_Good  condition_Very_Good  \n",
       "price                      0.006948           -0.051432            -0.030759  \n",
       "bedrooms                   0.005210           -0.049463            -0.009841  \n",
       "bathrooms                  0.190790           -0.075933            -0.166756  \n",
       "sqft_living                0.102061           -0.063984            -0.083850  \n",
       "sqft_lot                  -0.011589            0.037871             0.013284  \n",
       "floors                     0.317725           -0.055337            -0.257672  \n",
       "waterfront                -0.017498           -0.000954             0.009785  \n",
       "grade                      0.196419           -0.084788            -0.140140  \n",
       "sqft_above                 0.194238           -0.057698            -0.142520  \n",
       "sqft_basement             -0.146876           -0.025129             0.089413  \n",
       "yr_built                   0.391418           -0.066977            -0.257155  \n",
       "yr_renovated               0.064609           -0.008842            -0.051721  \n",
       "sqft_living15              0.113671           -0.052141            -0.074361  \n",
       "sqft_lot15                -0.012933            0.022377             0.020645  \n",
       "condition_Bad             -0.049879           -0.003266            -0.021897  \n",
       "condition_Excellent       -0.397736           -0.026044            -0.174605  \n",
       "condition_Good             1.000000           -0.121163            -0.812294  \n",
       "condition_Not_Good        -0.121163            1.000000            -0.053190  \n",
       "condition_Very_Good       -0.812294           -0.053190             1.000000  "
      ]
     },
     "metadata": {},
     "output_type": "display_data"
    }
   ],
   "source": [
    "# Print a correlation matrix of the dataframe\n",
    "corr = data_1.corr()\n",
    "\n",
    "# Display the correlation\n",
    "display(corr)"
   ]
  },
  {
   "cell_type": "code",
   "execution_count": 46,
   "metadata": {},
   "outputs": [
    {
     "data": {
      "text/plain": [
       "<matplotlib.axes._subplots.AxesSubplot at 0x22873d6e358>"
      ]
     },
     "execution_count": 46,
     "metadata": {},
     "output_type": "execute_result"
    },
    {
     "data": {
      "image/png": "[encoded data removed]",
      "text/plain": [
       "<Figure size 432x288 with 2 Axes>"
      ]
     },
     "metadata": {
      "needs_background": "light"
     },
     "output_type": "display_data"
    }
   ],
   "source": [
    "# plot a heatmap\n",
    "sns.heatmap(corr, xticklabels = corr.columns, yticklabels = corr.columns, cmap = \"RdBu\")"
   ]
  },
  {
   "cell_type": "markdown",
   "metadata": {},
   "source": [
    "> Checking the heatmap with the correlation matrix, we can identify some highly correlated variables like sqft_above and sqft_living, sqft_lot and sqft_lot15, grade and sqft_above and so on. <br>\n",
    "> We are going to use **Variance Inflation Factor (VIF)** to systematically remove highly correlated variables. VIF is defined in the statsmodel API. The **Variance Inflation Factor** is a measure of the increase of the variance of the parameter estimates if additional variable, given by **exog_idx** is added to the linear regression. It is a measure for Multicollinearity of the design matrix, **exog** <br>\n",
    "The recommendation is that if any of our variables come back with a value greater than 5, then they should be removed from the model."
   ]
  },
  {
   "cell_type": "code",
   "execution_count": 47,
   "metadata": {},
   "outputs": [
    {
     "name": "stderr",
     "output_type": "stream",
     "text": [
      "C:\\Users\\adara\\Anaconda3\\lib\\site-packages\\numpy\\core\\fromnumeric.py:2389: FutureWarning: Method .ptp is deprecated and will be removed in a future version. Use numpy.ptp instead.\n",
      "  return ptp(axis=axis, out=out, **kwargs)\n",
      "C:\\Users\\adara\\Anaconda3\\lib\\site-packages\\statsmodels\\regression\\linear_model.py:1636: RuntimeWarning: divide by zero encountered in double_scalars\n",
      "  return 1 - self.ssr/self.centered_tss\n"
     ]
    },
    {
     "name": "stdout",
     "output_type": "stream",
     "text": [
      "VIF BEFORE DROPPING COLUMNS\n",
      "----------------------------------------------------------------------------------------------------\n"
     ]
    },
    {
     "name": "stderr",
     "output_type": "stream",
     "text": [
      "C:\\Users\\adara\\Anaconda3\\lib\\site-packages\\statsmodels\\stats\\outliers_influence.py:185: RuntimeWarning: divide by zero encountered in double_scalars\n",
      "  vif = 1. / (1. - r_squared_i)\n"
     ]
    },
    {
     "data": {
      "text/plain": [
       "const                    0.000000\n",
       "price                    2.845104\n",
       "bedrooms                 1.667777\n",
       "bathrooms                3.391672\n",
       "sqft_living            202.350180\n",
       "sqft_lot                 2.086803\n",
       "floors                   1.951297\n",
       "waterfront               1.106103\n",
       "grade                    3.686154\n",
       "sqft_above             164.217926\n",
       "sqft_basement           46.004877\n",
       "yr_built                 2.232875\n",
       "yr_renovated             1.119039\n",
       "sqft_living15            2.785071\n",
       "sqft_lot15               2.121396\n",
       "condition_Bad                 inf\n",
       "condition_Excellent           inf\n",
       "condition_Good                inf\n",
       "condition_Not_Good            inf\n",
       "condition_Very_Good           inf\n",
       "dtype: float64"
      ]
     },
     "metadata": {},
     "output_type": "display_data"
    }
   ],
   "source": [
    "# Create two dataframes, one to store the initial dataframe before applying the VIF API and\n",
    "# the other to store the final dataframe after VIF API is applied\n",
    "data_1_before = data_1\n",
    "x1 = sm.tools.add_constant(data_1_before)\n",
    "\n",
    "# Create series for both dataframe\n",
    "series_before = pd.Series([variance_inflation_factor(x1.values, i) for i in range(x1.shape[1])], index = x1.columns)\n",
    "\n",
    "# Display the series\n",
    "print('VIF BEFORE DROPPING COLUMNS')\n",
    "print('-'*100)\n",
    "display(series_before)"
   ]
  },
  {
   "cell_type": "markdown",
   "metadata": {},
   "source": [
    "> We are going to drop some columns with **VIF** value greater than 5 conditioned on our suspicion above based on correlation matrix. Then we are going to recalculate the **VIF**"
   ]
  },
  {
   "cell_type": "code",
   "execution_count": 48,
   "metadata": {},
   "outputs": [
    {
     "name": "stdout",
     "output_type": "stream",
     "text": [
      "VIF AFTER DROPPING COLUMNS\n",
      "----------------------------------------------------------------------------------------------------\n"
     ]
    },
    {
     "data": {
      "text/plain": [
       "const                  7981.692351\n",
       "price                     2.814546\n",
       "bedrooms                  1.600466\n",
       "sqft_living               4.727663\n",
       "sqft_lot                  2.081895\n",
       "floors                    1.533292\n",
       "waterfront                1.104963\n",
       "grade                     3.652262\n",
       "yr_built                  1.944570\n",
       "yr_renovated              1.103729\n",
       "sqft_living15             2.685082\n",
       "sqft_lot15                2.116375\n",
       "condition_Bad             1.009476\n",
       "condition_Excellent       1.225269\n",
       "condition_Good            1.429100\n",
       "condition_Not_Good        1.029154\n",
       "dtype: float64"
      ]
     },
     "metadata": {},
     "output_type": "display_data"
    }
   ],
   "source": [
    "data_1_after = data_1.drop(['sqft_above', 'sqft_basement', 'bathrooms','condition_Very_Good'], axis=1)\n",
    "x2 = sm.tools.add_constant(data_1_after)\n",
    "series_after = pd.Series([variance_inflation_factor(x2.values, i) for i in range(x2.shape[1])], index = x2.columns)\n",
    "\n",
    "# Display the series\n",
    "print('VIF AFTER DROPPING COLUMNS')\n",
    "print('-'*100)\n",
    "display(series_after)"
   ]
  },
  {
   "cell_type": "code",
   "execution_count": 49,
   "metadata": {},
   "outputs": [
    {
     "data": {
      "image/png": "[encoded data removed]",
      "text/plain": [
       "<Figure size 2160x1440 with 225 Axes>"
      ]
     },
     "metadata": {
      "needs_background": "light"
     },
     "output_type": "display_data"
    }
   ],
   "source": [
    "# We can display the scatter plot\n",
    "pd.plotting.scatter_matrix(data_1_after, alpha = 1, figsize = (30, 20))\n",
    "\n",
    "# Show the plot\n",
    "plt.show()"
   ]
  },
  {
   "cell_type": "markdown",
   "metadata": {},
   "source": [
    "<div class=\"alert alert-block alert-info\">\n",
    "    \n",
    "### SECTION 4: BUILD THE MODEL\n",
    "\n",
    "<a id=\"section_5\"></a>\n",
    "\n",
    "* click here to go back to [Table of Contents](#section_0)"
   ]
  },
  {
   "cell_type": "markdown",
   "metadata": {},
   "source": [
    "> We have loaded, cleaned and explored the data. We can now proceed to building the model. We have selected the independent variables that we need to predict the **Key Performace Indicator**. We are going to split the dataset into **Training and Testing Dataset**. The training set will be named **x_train, y_train** and the test set **x_test, y_test**"
   ]
  },
  {
   "cell_type": "markdown",
   "metadata": {},
   "source": [
    "> After splitting the dataset, we are going to create an instance of the linear regression model and pass through the x_train and y_train "
   ]
  },
  {
   "cell_type": "code",
   "execution_count": 51,
   "metadata": {},
   "outputs": [
    {
     "data": {
      "text/plain": [
       "Index(['price', 'bedrooms', 'sqft_living', 'sqft_lot', 'floors', 'waterfront',\n",
       "       'grade', 'yr_built', 'yr_renovated', 'sqft_living15', 'sqft_lot15',\n",
       "       'condition_Bad', 'condition_Excellent', 'condition_Good',\n",
       "       'condition_Not_Good'],\n",
       "      dtype='object')"
      ]
     },
     "execution_count": 51,
     "metadata": {},
     "output_type": "execute_result"
    }
   ],
   "source": [
    "data_1_after.columns"
   ]
  },
  {
   "cell_type": "code",
   "execution_count": 52,
   "metadata": {},
   "outputs": [
    {
     "data": {
      "text/plain": [
       "LinearRegression(copy_X=True, fit_intercept=True, n_jobs=None, normalize=False)"
      ]
     },
     "execution_count": 52,
     "metadata": {},
     "output_type": "execute_result"
    }
   ],
   "source": [
    "# Get the input and output variables\n",
    "dfx = data_1_after.drop('price', axis = 1)\n",
    "dfy = data_1_after[['price']]\n",
    "\n",
    "# Split the dataset to training and testing dataset\n",
    "x_train, x_test, y_train, y_test = train_test_split(dfx, dfy, test_size = 0.20, random_state = 1)\n",
    "\n",
    "# Create an instance for our model\n",
    "regression_model = LinearRegression()\n",
    "\n",
    "# Fit the model\n",
    "regression_model.fit(x_train, y_train)"
   ]
  },
  {
   "cell_type": "markdown",
   "metadata": {},
   "source": [
    "#### Exploring the Output\n",
    "> Since the data now fitted to the model, we can explore the ouput. We will print out the\n",
    "Intercept and each of the coefficients of the model"
   ]
  },
  {
   "cell_type": "code",
   "execution_count": 53,
   "metadata": {},
   "outputs": [
    {
     "name": "stdout",
     "output_type": "stream",
     "text": [
      "The Intercept for the model is 6.049e+06\n",
      "----------------------------------------------------------------------------------------------------\n",
      "The coefficient for bedrooms is -3.7e+04\n",
      "The coefficient for sqft_living is 1.9e+02\n",
      "The coefficient for sqft_lot is 0.029\n",
      "The coefficient for floors is 3.4e+04\n",
      "The coefficient for waterfront is 7.7e+05\n",
      "The coefficient for grade is 1.2e+05\n",
      "The coefficient for yr_built is -3.5e+03\n",
      "The coefficient for yr_renovated is 2.4e+01\n",
      "The coefficient for sqft_living15 is 2.3e+01\n",
      "The coefficient for sqft_lot15 is -0.65\n",
      "The coefficient for condition_Bad is -7.8e+03\n",
      "The coefficient for condition_Excellent is 4.2e+04\n",
      "The coefficient for condition_Good is -1.7e+04\n",
      "The coefficient for condition_Not_Good is -2.7e+04\n"
     ]
    }
   ],
   "source": [
    "# Print the Intercept and coefficients\n",
    "intercept = regression_model.intercept_[0]\n",
    "coeff = regression_model.coef_[0][0]\n",
    "\n",
    "print(\"The Intercept for the model is {:.4}\".format(intercept))\n",
    "print('-'*100)\n",
    "\n",
    "# Loop thru the dictionary to print the coefficients\n",
    "for coef in zip(dfx.columns, regression_model.coef_[0]):\n",
    "    print(\"The coefficient for {} is {:.2}\".format(coef[0], coef[1]))"
   ]
  },
  {
   "cell_type": "markdown",
   "metadata": {},
   "source": [
    "> The intercept **6,049,000** is the price when all the dependent variables are equal to zero. The coefficients are slopes which are interpreted as for a unit change in dependent variables, price changes for the value of the coefficient. For example, the coefficient of **sqft_living** is **190**, this implies that for a unit increase in sqft living, the price increases by **190** while holding all other variables constant."
   ]
  },
  {
   "cell_type": "markdown",
   "metadata": {},
   "source": [
    "> We can now make a prediction on the test data"
   ]
  },
  {
   "cell_type": "code",
   "execution_count": 54,
   "metadata": {},
   "outputs": [
    {
     "data": {
      "text/plain": [
       "array([[213588.31947379],\n",
       "       [158974.31847483],\n",
       "       [402266.50810776],\n",
       "       [391014.37260197],\n",
       "       [607632.54857889],\n",
       "       [272796.03883092],\n",
       "       [284441.44589491],\n",
       "       [321795.0115287 ],\n",
       "       [630958.2106782 ],\n",
       "       [254884.38038602]])"
      ]
     },
     "execution_count": 54,
     "metadata": {},
     "output_type": "execute_result"
    }
   ],
   "source": [
    "# Get the multiple prediction\n",
    "y_predict = regression_model.predict(x_test)\n",
    "\n",
    "# Show the first 10\n",
    "y_predict[:10]"
   ]
  },
  {
   "cell_type": "markdown",
   "metadata": {},
   "source": [
    "<div class=\"alert alert-block alert-info\">\n",
    "\n",
    "### SECTION 5: EVALUATING THE MODEL\n",
    "\n",
    "<a id=\"section_6\"></a>\n",
    "\n",
    "* click here to go back to [Table of Contents](#section_0)"
   ]
  },
  {
   "cell_type": "markdown",
   "metadata": {},
   "source": [
    "#### Using the Statsmodel\n",
    "> We will be using this module to validate all the assumptions. For details of the assumption, click here to read [Assumptions of the Model](#section_1). We will be using **OLS() method** and **fit()**."
   ]
  },
  {
   "cell_type": "code",
   "execution_count": 55,
   "metadata": {},
   "outputs": [
    {
     "name": "stderr",
     "output_type": "stream",
     "text": [
      "C:\\Users\\adara\\Anaconda3\\lib\\site-packages\\numpy\\core\\fromnumeric.py:2389: FutureWarning: Method .ptp is deprecated and will be removed in a future version. Use numpy.ptp instead.\n",
      "  return ptp(axis=axis, out=out, **kwargs)\n"
     ]
    }
   ],
   "source": [
    "# Create the input\n",
    "dfx2 = sm.add_constant(dfx)\n",
    "\n",
    "# Create an OLS model\n",
    "model = sm.OLS(dfy, dfx2)\n",
    "\n",
    "# Fit the model\n",
    "est = model.fit()"
   ]
  },
  {
   "cell_type": "markdown",
   "metadata": {},
   "source": [
    "#### Checking for Heteroscedasticity\n",
    "If you need to read more about this statistical term, click __[Here](https://statisticsbyjim.com/regression/heteroscedasticity-regression/)__\n",
    "\n",
    "#### How to test for Heteroscedasticity\n",
    "We can import the **statsmodels.stats.diagnostics** module and get access to Breusch-Pagan and white test for Heteroscedasticity\n",
    "* The null Hypothesis for both the White teast and Breusch-Pagan test is that the variances for the errors are equal\n",
    "* The alternative hypothesis is that the variances are not equal (or atleast one is different)\n",
    "\n",
    "The goal is to fail to reject the null hypothesis, have a high p-value which implies that we have no heteroscedasticity\n"
   ]
  },
  {
   "cell_type": "code",
   "execution_count": 56,
   "metadata": {},
   "outputs": [
    {
     "ename": "AssertionError",
     "evalue": "",
     "output_type": "error",
     "traceback": [
      "\u001b[1;31m---------------------------------------------------------------------------\u001b[0m",
      "\u001b[1;31mAssertionError\u001b[0m                            Traceback (most recent call last)",
      "\u001b[1;32m<ipython-input-56-0834c0b134f1>\u001b[0m in \u001b[0;36m<module>\u001b[1;34m\u001b[0m\n\u001b[0;32m      1\u001b[0m \u001b[1;31m# Running white test\u001b[0m\u001b[1;33m\u001b[0m\u001b[1;33m\u001b[0m\u001b[1;33m\u001b[0m\u001b[0m\n\u001b[1;32m----> 2\u001b[1;33m \u001b[0m_\u001b[0m\u001b[1;33m,\u001b[0m \u001b[0mpval\u001b[0m\u001b[1;33m,\u001b[0m \u001b[0m_\u001b[0m\u001b[1;33m,\u001b[0m \u001b[0mf_pval\u001b[0m \u001b[1;33m=\u001b[0m \u001b[0mdiag\u001b[0m\u001b[1;33m.\u001b[0m\u001b[0mhet_white\u001b[0m\u001b[1;33m(\u001b[0m\u001b[0mest\u001b[0m\u001b[1;33m.\u001b[0m\u001b[0mresid\u001b[0m\u001b[1;33m,\u001b[0m \u001b[0mest\u001b[0m\u001b[1;33m.\u001b[0m\u001b[0mmodel\u001b[0m\u001b[1;33m.\u001b[0m\u001b[0mexog\u001b[0m\u001b[1;33m,\u001b[0m \u001b[0mretres\u001b[0m \u001b[1;33m=\u001b[0m \u001b[1;32mFalse\u001b[0m\u001b[1;33m)\u001b[0m\u001b[1;33m\u001b[0m\u001b[1;33m\u001b[0m\u001b[0m\n\u001b[0m\u001b[0;32m      3\u001b[0m \u001b[0mprint\u001b[0m\u001b[1;33m(\u001b[0m\u001b[0mpval\u001b[0m\u001b[1;33m,\u001b[0m \u001b[0mf_pval\u001b[0m\u001b[1;33m)\u001b[0m\u001b[1;33m\u001b[0m\u001b[1;33m\u001b[0m\u001b[0m\n\u001b[0;32m      4\u001b[0m \u001b[0mprint\u001b[0m\u001b[1;33m(\u001b[0m\u001b[1;34m'-'\u001b[0m\u001b[1;33m*\u001b[0m\u001b[1;36m100\u001b[0m\u001b[1;33m)\u001b[0m\u001b[1;33m\u001b[0m\u001b[1;33m\u001b[0m\u001b[0m\n\u001b[0;32m      5\u001b[0m \u001b[1;33m\u001b[0m\u001b[0m\n",
      "\u001b[1;32m~\\Anaconda3\\lib\\site-packages\\statsmodels\\sandbox\\stats\\diagnostic.py\u001b[0m in \u001b[0;36mhet_white\u001b[1;34m(resid, exog, retres)\u001b[0m\n\u001b[0;32m    657\u001b[0m     \u001b[1;31m#df_model checks the rank to determine df\u001b[0m\u001b[1;33m\u001b[0m\u001b[1;33m\u001b[0m\u001b[1;33m\u001b[0m\u001b[0m\n\u001b[0;32m    658\u001b[0m     \u001b[1;31m#extra calculation that can be removed:\u001b[0m\u001b[1;33m\u001b[0m\u001b[1;33m\u001b[0m\u001b[1;33m\u001b[0m\u001b[0m\n\u001b[1;32m--> 659\u001b[1;33m     \u001b[1;32massert\u001b[0m \u001b[0mresols\u001b[0m\u001b[1;33m.\u001b[0m\u001b[0mdf_model\u001b[0m \u001b[1;33m==\u001b[0m \u001b[0mnp\u001b[0m\u001b[1;33m.\u001b[0m\u001b[0mlinalg\u001b[0m\u001b[1;33m.\u001b[0m\u001b[0mmatrix_rank\u001b[0m\u001b[1;33m(\u001b[0m\u001b[0mexog\u001b[0m\u001b[1;33m)\u001b[0m \u001b[1;33m-\u001b[0m \u001b[1;36m1\u001b[0m\u001b[1;33m\u001b[0m\u001b[1;33m\u001b[0m\u001b[0m\n\u001b[0m\u001b[0;32m    660\u001b[0m     \u001b[0mlmpval\u001b[0m \u001b[1;33m=\u001b[0m \u001b[0mstats\u001b[0m\u001b[1;33m.\u001b[0m\u001b[0mchi2\u001b[0m\u001b[1;33m.\u001b[0m\u001b[0msf\u001b[0m\u001b[1;33m(\u001b[0m\u001b[0mlm\u001b[0m\u001b[1;33m,\u001b[0m \u001b[0mresols\u001b[0m\u001b[1;33m.\u001b[0m\u001b[0mdf_model\u001b[0m\u001b[1;33m)\u001b[0m\u001b[1;33m\u001b[0m\u001b[1;33m\u001b[0m\u001b[0m\n\u001b[0;32m    661\u001b[0m     \u001b[1;32mreturn\u001b[0m \u001b[0mlm\u001b[0m\u001b[1;33m,\u001b[0m \u001b[0mlmpval\u001b[0m\u001b[1;33m,\u001b[0m \u001b[0mfval\u001b[0m\u001b[1;33m,\u001b[0m \u001b[0mfpval\u001b[0m\u001b[1;33m\u001b[0m\u001b[1;33m\u001b[0m\u001b[0m\n",
      "\u001b[1;31mAssertionError\u001b[0m: "
     ]
    }
   ],
   "source": [
    "# Running white test\n",
    "_, pval, _, f_pval = diag.het_white(est.resid, est.model.exog, retres = False)\n",
    "print(pval, f_pval)\n",
    "print('-'*100)\n",
    "\n",
    "if pval > 0.05:\n",
    "    print(\"For the White's Test\")\n",
    "    print(\"The p-value was {:.4}\".format(pval))\n",
    "    print(\"We reject the null hyothesis, so there is no heteroscedasticity.\")\n",
    "else:\n",
    "    print(\"For the Breusch-Pagan's Test\")\n",
    "    print(\"The p-value was {:.4}\".format(pval))\n",
    "    print(\"We reject the null hyothesis, so there is heteroscedasticity.\")\n",
    "_, pval, _, f_pval = diag.het_breuschpagan(est.resid, est.model.exog)\n",
    "print(pval, f_pval)\n",
    "print('-'*100)\n",
    "\n",
    "if pval > 0.05:\n",
    "    print(\"For the Breusch-Pagan's Test\")\n",
    "    print(\"The p-value was {:.4}\".format(pval))\n",
    "    print(\"We reject the null hyothesis, so there is no heteroscedasticity.\")\n",
    "else:\n",
    "    print(\"For the Breusch-Pagan's Test\")\n",
    "    print(\"The p-value was {:.4}\".format(pval))\n",
    "    print(\"We reject the null hyothesis, so there is heteroscedasticity.\")"
   ]
  },
  {
   "cell_type": "markdown",
   "metadata": {},
   "source": [
    "#### Check for Autocorrelation\n",
    "Autocorrelation refers to the degree of correlation between the values of the same variables across different observations in the data\n",
    "* Null Hypothesis: The data are random\n",
    "* Alternative Hypothesis: The data are not random"
   ]
  },
  {
   "cell_type": "code",
   "execution_count": 57,
   "metadata": {},
   "outputs": [
    {
     "name": "stdout",
     "output_type": "stream",
     "text": [
      "The number of lags will be 10\n",
      "----------------------------------------------------------------------------------------------------\n",
      "(array([ 2.65900579,  2.77506869,  2.77701756,  3.00532556,  3.44220631,\n",
      "        7.36710439,  7.38807087, 10.72970385, 10.95049685, 13.93372199]), array([0.10296508, 0.2496902 , 0.42729722, 0.55693458, 0.63215002,\n",
      "       0.28822714, 0.38962187, 0.21748985, 0.2791174 , 0.17603628]))\n",
      "The lowest p-value found was 0.103\n",
      "We fail to reject the null hypothesis, so there is no autocorrelation\n",
      "----------------------------------------------------------------------------------------------------\n"
     ]
    },
    {
     "data": {
      "image/png": "[encoded data removed]",
      "text/plain": [
       "<Figure size 432x288 with 1 Axes>"
      ]
     },
     "metadata": {
      "needs_background": "light"
     },
     "output_type": "display_data"
    }
   ],
   "source": [
    "# calculate the lag\n",
    "lag = min(10, (len(dfx)//5))\n",
    "print('The number of lags will be {}'.format(lag))\n",
    "print('-'*100)\n",
    "\n",
    "# Perform ljung-Box test\n",
    "test_results =diag.acorr_ljungbox(est.resid, lags = lag)\n",
    "print(test_results)\n",
    "\n",
    "# Pick the p-value and the test statistics\n",
    "ibvalue, pvalue = test_results\n",
    "\n",
    "# Print the result\n",
    "if min(pvalue) > 0.05:\n",
    "    print(\"The lowest p-value found was {:.4}\".format(min(pvalue)))\n",
    "    print(\"We fail to reject the null hypothesis, so there is no autocorrelation\")\n",
    "    print('-'*100)\n",
    "else:\n",
    "    print(\"The lowest p-value found was {:.4}.format(min(pvalue))\")\n",
    "    print(\"We reject the null hypothesis, so there is autocorrelation\")\n",
    "    print('-'*100)\n",
    "    \n",
    "# plot the autocorrelation\n",
    "sm.graphics.tsa.plot_acf(est.resid)\n",
    "plt.show()"
   ]
  },
  {
   "cell_type": "markdown",
   "metadata": {},
   "source": [
    "#### Checking that the Residual is normally distributed\n",
    "We are going to be using visuals to proof this assumptions. This will require using a QQ pplot\n",
    "\n",
    "#### Checking that the Mean of the residuals Equals 0\n",
    "We also need to check that the mean of the residual is 0. If the mean is very close to zero, then we are good"
   ]
  },
  {
   "cell_type": "code",
   "execution_count": 58,
   "metadata": {},
   "outputs": [
    {
     "data": {
      "image/png": "[encoded data removed]",
      "text/plain": [
       "<Figure size 432x288 with 1 Axes>"
      ]
     },
     "metadata": {
      "needs_background": "light"
     },
     "output_type": "display_data"
    },
    {
     "data": {
      "text/plain": [
       "-4.200665260386416e-08"
      ]
     },
     "execution_count": 58,
     "metadata": {},
     "output_type": "execute_result"
    }
   ],
   "source": [
    "# Check for the normality\n",
    "sm.qqplot(est.resid, line = 's')\n",
    "pylab.show()\n",
    "\n",
    "# Check that the mean of the residual = 0\n",
    "mean_residuals = sum(est.resid) / len(est.resid)\n",
    "mean_residuals"
   ]
  },
  {
   "cell_type": "markdown",
   "metadata": {},
   "source": [
    "> the value is approximately 0"
   ]
  },
  {
   "cell_type": "markdown",
   "metadata": {},
   "source": [
    "#### Calculate the Measure of Error\n",
    "We will be calculating all these error type using the y_test and x_test\n",
    "* Mean Absolute Error (MAE): which is the mean of the absolute value of errors\n",
    "* Mean Squared Error (MSE): which is the mean of the squared errors\n",
    "* Root Mean Squared Error (RMSE): which is the square root of the mean of the squared errors"
   ]
  },
  {
   "cell_type": "code",
   "execution_count": 59,
   "metadata": {},
   "outputs": [
    {
     "name": "stdout",
     "output_type": "stream",
     "text": [
      "MSE 4.46e+10\n",
      "MAE 1.4e+05\n",
      "RMSE 2.11e+05\n"
     ]
    }
   ],
   "source": [
    "# Calculate the mean squared error\n",
    "model_mse = mean_squared_error(y_test, y_predict)\n",
    "\n",
    "# Calculate the mean absolute error\n",
    "model_mae = mean_absolute_error(y_test, y_predict)\n",
    "\n",
    "# Calculate the root mean squared error\n",
    "model_rmse = math.sqrt(model_mse)\n",
    "\n",
    "# Display the output\n",
    "print(\"MSE {:.3}\".format(model_mse))\n",
    "print(\"MAE {:.3}\".format(model_mae))\n",
    "print(\"RMSE {:.3}\".format(model_rmse))\n"
   ]
  },
  {
   "cell_type": "markdown",
   "metadata": {},
   "source": [
    "> These value are approximately equal to 0. The model is well behaved"
   ]
  },
  {
   "cell_type": "markdown",
   "metadata": {},
   "source": [
    "#### Confidence Intervals\n"
   ]
  },
  {
   "cell_type": "code",
   "execution_count": 60,
   "metadata": {},
   "outputs": [
    {
     "data": {
      "text/html": [
       "<div>\n",
       "<style scoped>\n",
       "    .dataframe tbody tr th:only-of-type {\n",
       "        vertical-align: middle;\n",
       "    }\n",
       "\n",
       "    .dataframe tbody tr th {\n",
       "        vertical-align: top;\n",
       "    }\n",
       "\n",
       "    .dataframe thead th {\n",
       "        text-align: right;\n",
       "    }\n",
       "</style>\n",
       "<table border=\"1\" class=\"dataframe\">\n",
       "  <thead>\n",
       "    <tr style=\"text-align: right;\">\n",
       "      <th></th>\n",
       "      <th>0</th>\n",
       "      <th>1</th>\n",
       "    </tr>\n",
       "  </thead>\n",
       "  <tbody>\n",
       "    <tr>\n",
       "      <th>const</th>\n",
       "      <td>5.726446e+06</td>\n",
       "      <td>6.223527e+06</td>\n",
       "    </tr>\n",
       "    <tr>\n",
       "      <th>bedrooms</th>\n",
       "      <td>-4.099949e+04</td>\n",
       "      <td>-3.308051e+04</td>\n",
       "    </tr>\n",
       "    <tr>\n",
       "      <th>sqft_living</th>\n",
       "      <td>1.820285e+02</td>\n",
       "      <td>1.949206e+02</td>\n",
       "    </tr>\n",
       "    <tr>\n",
       "      <th>sqft_lot</th>\n",
       "      <td>-8.810223e-02</td>\n",
       "      <td>1.154846e-01</td>\n",
       "    </tr>\n",
       "    <tr>\n",
       "      <th>floors</th>\n",
       "      <td>2.556240e+04</td>\n",
       "      <td>3.894163e+04</td>\n",
       "    </tr>\n",
       "    <tr>\n",
       "      <th>waterfront</th>\n",
       "      <td>7.177951e+05</td>\n",
       "      <td>7.900018e+05</td>\n",
       "    </tr>\n",
       "    <tr>\n",
       "      <th>grade</th>\n",
       "      <td>1.217520e+05</td>\n",
       "      <td>1.306547e+05</td>\n",
       "    </tr>\n",
       "    <tr>\n",
       "      <th>yr_built</th>\n",
       "      <td>-3.563389e+03</td>\n",
       "      <td>-3.301562e+03</td>\n",
       "    </tr>\n",
       "    <tr>\n",
       "      <th>yr_renovated</th>\n",
       "      <td>1.541451e+01</td>\n",
       "      <td>3.233115e+01</td>\n",
       "    </tr>\n",
       "    <tr>\n",
       "      <th>sqft_living15</th>\n",
       "      <td>2.110501e+01</td>\n",
       "      <td>3.505811e+01</td>\n",
       "    </tr>\n",
       "    <tr>\n",
       "      <th>sqft_lot15</th>\n",
       "      <td>-7.678716e-01</td>\n",
       "      <td>-4.566307e-01</td>\n",
       "    </tr>\n",
       "    <tr>\n",
       "      <th>condition_Bad</th>\n",
       "      <td>-9.201219e+04</td>\n",
       "      <td>6.830514e+04</td>\n",
       "    </tr>\n",
       "    <tr>\n",
       "      <th>condition_Excellent</th>\n",
       "      <td>3.441073e+04</td>\n",
       "      <td>5.839020e+04</td>\n",
       "    </tr>\n",
       "    <tr>\n",
       "      <th>condition_Good</th>\n",
       "      <td>-2.244506e+04</td>\n",
       "      <td>-7.813839e+03</td>\n",
       "    </tr>\n",
       "    <tr>\n",
       "      <th>condition_Not_Good</th>\n",
       "      <td>-5.408137e+04</td>\n",
       "      <td>1.299319e+04</td>\n",
       "    </tr>\n",
       "  </tbody>\n",
       "</table>\n",
       "</div>"
      ],
      "text/plain": [
       "                                0             1\n",
       "const                5.726446e+06  6.223527e+06\n",
       "bedrooms            -4.099949e+04 -3.308051e+04\n",
       "sqft_living          1.820285e+02  1.949206e+02\n",
       "sqft_lot            -8.810223e-02  1.154846e-01\n",
       "floors               2.556240e+04  3.894163e+04\n",
       "waterfront           7.177951e+05  7.900018e+05\n",
       "grade                1.217520e+05  1.306547e+05\n",
       "yr_built            -3.563389e+03 -3.301562e+03\n",
       "yr_renovated         1.541451e+01  3.233115e+01\n",
       "sqft_living15        2.110501e+01  3.505811e+01\n",
       "sqft_lot15          -7.678716e-01 -4.566307e-01\n",
       "condition_Bad       -9.201219e+04  6.830514e+04\n",
       "condition_Excellent  3.441073e+04  5.839020e+04\n",
       "condition_Good      -2.244506e+04 -7.813839e+03\n",
       "condition_Not_Good  -5.408137e+04  1.299319e+04"
      ]
     },
     "execution_count": 60,
     "metadata": {},
     "output_type": "execute_result"
    }
   ],
   "source": [
    "est.conf_int()"
   ]
  },
  {
   "cell_type": "markdown",
   "metadata": {},
   "source": [
    "#### Hypothesis Testing\n",
    "* Null Hypothesis: There is no relationship between the exploratory variables and the response variable\n",
    "* Alternative Hypothesis: There is a relationship between the exploratory variable and the response variable\n",
    "***\n",
    "* If we **Reject the Null**, then there is a relationship, and the coefficients do not equal to 0\n",
    "* if we **fail to reject the Null**, then there is no relationship, and the coeeficients do equal to 0"
   ]
  },
  {
   "cell_type": "code",
   "execution_count": 61,
   "metadata": {},
   "outputs": [
    {
     "data": {
      "text/plain": [
       "const                  0.000000e+00\n",
       "bedrooms               1.573475e-74\n",
       "sqft_living            0.000000e+00\n",
       "sqft_lot               7.920679e-01\n",
       "floors                 3.725763e-21\n",
       "waterfront             0.000000e+00\n",
       "grade                  0.000000e+00\n",
       "yr_built               0.000000e+00\n",
       "yr_renovated           3.200392e-08\n",
       "sqft_living15          3.175862e-15\n",
       "sqft_lot15             1.297792e-14\n",
       "condition_Bad          7.719357e-01\n",
       "condition_Excellent    3.445493e-14\n",
       "condition_Good         5.060396e-05\n",
       "condition_Not_Good     2.298840e-01\n",
       "dtype: float64"
      ]
     },
     "execution_count": 61,
     "metadata": {},
     "output_type": "execute_result"
    }
   ],
   "source": [
    "est.pvalues"
   ]
  },
  {
   "cell_type": "markdown",
   "metadata": {},
   "source": [
    "we can see that all the p-values are less than 0.05. So we **reject the Null hypothesis** which implies that there is a relationship between the exploratory variables and the coefficient is not equal to 0"
   ]
  },
  {
   "cell_type": "markdown",
   "metadata": {},
   "source": [
    "#### Create the Summary of the Model Output"
   ]
  },
  {
   "cell_type": "code",
   "execution_count": 63,
   "metadata": {},
   "outputs": [
    {
     "name": "stdout",
     "output_type": "stream",
     "text": [
      "                            OLS Regression Results                            \n",
      "==============================================================================\n",
      "Dep. Variable:                  price   R-squared:                       0.645\n",
      "Model:                            OLS   Adj. R-squared:                  0.644\n",
      "Method:                 Least Squares   F-statistic:                     2797.\n",
      "Date:                Tue, 08 Oct 2019   Prob (F-statistic):               0.00\n",
      "Time:                        15:26:37   Log-Likelihood:            -2.9622e+05\n",
      "No. Observations:               21597   AIC:                         5.925e+05\n",
      "Df Residuals:                   21582   BIC:                         5.926e+05\n",
      "Df Model:                          14                                         \n",
      "Covariance Type:            nonrobust                                         \n",
      "=======================================================================================\n",
      "                          coef    std err          t      P>|t|      [0.025      0.975]\n",
      "---------------------------------------------------------------------------------------\n",
      "const                5.975e+06   1.27e+05     47.121      0.000    5.73e+06    6.22e+06\n",
      "bedrooms            -3.704e+04   2020.072    -18.336      0.000    -4.1e+04   -3.31e+04\n",
      "sqft_living           188.4745      3.289     57.310      0.000     182.028     194.921\n",
      "sqft_lot                0.0137      0.052      0.264      0.792      -0.088       0.115\n",
      "floors               3.225e+04   3412.940      9.450      0.000    2.56e+04    3.89e+04\n",
      "waterfront           7.539e+05   1.84e+04     40.930      0.000    7.18e+05     7.9e+05\n",
      "grade                1.262e+05   2271.016     55.571      0.000    1.22e+05    1.31e+05\n",
      "yr_built            -3432.4753     66.790    -51.392      0.000   -3563.389   -3301.562\n",
      "yr_renovated           23.8728      4.315      5.532      0.000      15.415      32.331\n",
      "sqft_living15          28.0816      3.559      7.890      0.000      21.105      35.058\n",
      "sqft_lot15             -0.6123      0.079     -7.711      0.000      -0.768      -0.457\n",
      "condition_Bad       -1.185e+04   4.09e+04     -0.290      0.772    -9.2e+04    6.83e+04\n",
      "condition_Excellent   4.64e+04   6116.983      7.586      0.000    3.44e+04    5.84e+04\n",
      "condition_Good      -1.513e+04   3732.314     -4.054      0.000   -2.24e+04   -7813.839\n",
      "condition_Not_Good  -2.054e+04   1.71e+04     -1.201      0.230   -5.41e+04     1.3e+04\n",
      "==============================================================================\n",
      "Omnibus:                    16176.005   Durbin-Watson:                   1.978\n",
      "Prob(Omnibus):                  0.000   Jarque-Bera (JB):          1106170.455\n",
      "Skew:                           3.010   Prob(JB):                         0.00\n",
      "Kurtosis:                      37.540   Cond. No.                     4.30e+06\n",
      "==============================================================================\n",
      "\n",
      "Warnings:\n",
      "[1] Standard Errors assume that the covariance matrix of the errors is correctly specified.\n",
      "[2] The condition number is large, 4.3e+06. This might indicate that there are\n",
      "strong multicollinearity or other numerical problems.\n"
     ]
    }
   ],
   "source": [
    "print(est.summary())"
   ]
  },
  {
   "cell_type": "markdown",
   "metadata": {},
   "source": [
    "We are going to remove all the variables with p-vallue greater than 0.05"
   ]
  },
  {
   "cell_type": "markdown",
   "metadata": {},
   "source": [
    "<div class=\"alert alert-block alert-info\">\n",
    "\n",
    "### SECTION 6: REMOVE THE INSIGNIFICANT VARIABLES\n",
    "\n",
    "<a id=\"section_7\"></a>\n",
    "\n",
    "* click here to go back to [Table of Contents](#section_0)"
   ]
  },
  {
   "cell_type": "markdown",
   "metadata": {},
   "source": [
    "We are going to drop all the insignificant variables and then re-train our model"
   ]
  },
  {
   "cell_type": "code",
   "execution_count": 64,
   "metadata": {},
   "outputs": [
    {
     "data": {
      "text/plain": [
       "LinearRegression(copy_X=True, fit_intercept=True, n_jobs=None, normalize=False)"
      ]
     },
     "execution_count": 64,
     "metadata": {},
     "output_type": "execute_result"
    }
   ],
   "source": [
    "# Get the input and output variables\n",
    "data_after = data_1.drop(['sqft_above', 'sqft_basement', 'bathrooms','condition_Very_Good', 'condition_Bad', 'sqft_lot','condition_Not_Good'], axis=1)\n",
    "x = data_after.drop('price', axis = 1)\n",
    "y = data_after[['price']]\n",
    "\n",
    "# Split the dataset to training and testing dataset\n",
    "x_train, x_test, y_train, y_test = train_test_split(x, y, test_size = 0.20, random_state = 1)\n",
    "\n",
    "# Create an instance for our model\n",
    "regression_model = LinearRegression()\n",
    "\n",
    "# Fit the model\n",
    "regression_model.fit(x_train, y_train)"
   ]
  },
  {
   "cell_type": "code",
   "execution_count": 65,
   "metadata": {},
   "outputs": [
    {
     "name": "stdout",
     "output_type": "stream",
     "text": [
      "                            OLS Regression Results                            \n",
      "==============================================================================\n",
      "Dep. Variable:                  price   R-squared:                       0.645\n",
      "Model:                            OLS   Adj. R-squared:                  0.644\n",
      "Method:                 Least Squares   F-statistic:                     3560.\n",
      "Date:                Tue, 08 Oct 2019   Prob (F-statistic):               0.00\n",
      "Time:                        15:26:46   Log-Likelihood:            -2.9622e+05\n",
      "No. Observations:               21597   AIC:                         5.925e+05\n",
      "Df Residuals:                   21585   BIC:                         5.926e+05\n",
      "Df Model:                          11                                         \n",
      "Covariance Type:            nonrobust                                         \n",
      "=======================================================================================\n",
      "                          coef    std err          t      P>|t|      [0.025      0.975]\n",
      "---------------------------------------------------------------------------------------\n",
      "const                5.971e+06   1.27e+05     47.128      0.000    5.72e+06    6.22e+06\n",
      "bedrooms            -3.698e+04   2018.173    -18.325      0.000   -4.09e+04    -3.3e+04\n",
      "sqft_living           188.5227      3.282     57.448      0.000     182.091     194.955\n",
      "floors               3.215e+04   3410.913      9.425      0.000    2.55e+04    3.88e+04\n",
      "waterfront           7.538e+05   1.84e+04     40.929      0.000    7.18e+05     7.9e+05\n",
      "grade                1.263e+05   2266.479     55.747      0.000    1.22e+05    1.31e+05\n",
      "yr_built            -3431.2961     66.759    -51.398      0.000   -3562.149   -3300.444\n",
      "yr_renovated           23.8887      4.315      5.536      0.000      15.431      32.347\n",
      "sqft_living15          27.9683      3.553      7.872      0.000      21.004      34.933\n",
      "sqft_lot15             -0.5992      0.056    -10.634      0.000      -0.710      -0.489\n",
      "condition_Excellent  4.704e+04   6092.534      7.722      0.000    3.51e+04     5.9e+04\n",
      "condition_Good      -1.454e+04   3700.092     -3.929      0.000   -2.18e+04   -7284.579\n",
      "==============================================================================\n",
      "Omnibus:                    16167.323   Durbin-Watson:                   1.978\n",
      "Prob(Omnibus):                  0.000   Jarque-Bera (JB):          1104239.728\n",
      "Skew:                           3.008   Prob(JB):                         0.00\n",
      "Kurtosis:                      37.510   Cond. No.                     2.56e+06\n",
      "==============================================================================\n",
      "\n",
      "Warnings:\n",
      "[1] Standard Errors assume that the covariance matrix of the errors is correctly specified.\n",
      "[2] The condition number is large, 2.56e+06. This might indicate that there are\n",
      "strong multicollinearity or other numerical problems.\n"
     ]
    },
    {
     "name": "stderr",
     "output_type": "stream",
     "text": [
      "C:\\Users\\adara\\Anaconda3\\lib\\site-packages\\numpy\\core\\fromnumeric.py:2389: FutureWarning: Method .ptp is deprecated and will be removed in a future version. Use numpy.ptp instead.\n",
      "  return ptp(axis=axis, out=out, **kwargs)\n"
     ]
    }
   ],
   "source": [
    "# Create the input\n",
    "x2 = sm.add_constant(x)\n",
    "\n",
    "# Create an OLS model\n",
    "model = sm.OLS(y, x2)\n",
    "\n",
    "# Fit the model\n",
    "est = model.fit()\n",
    "\n",
    "print(est.summary())"
   ]
  },
  {
   "cell_type": "markdown",
   "metadata": {},
   "source": [
    "<div class=\"alert alert-block alert-info\">\n",
    "\n",
    "### SECTION 7: SAVING THE MODEL FOR FUTURE USE\n",
    "\n",
    "<a id=\"section_8\"></a>\n",
    "\n",
    "* click here to go back to [Table of Contents](#section_0)"
   ]
  },
  {
   "cell_type": "code",
   "execution_count": 66,
   "metadata": {},
   "outputs": [],
   "source": [
    "import pickle\n",
    "\n",
    "# pickle the model\n",
    "\n",
    "with open('my_multilinear_regression.sav', 'wb') as f:\n",
    "    pickle.dump(regression_model, f)\n",
    "    \n",
    "# Load it back in\n",
    "with open('my_multilinear_regression.sav', 'rb') as pickle_file:\n",
    "    regression_model_2 = pickle.load(pickle_file)\n",
    "\n",
    "# make a new prediction\n",
    "#regression_model_2.predict([x_test.loc[0]])"
   ]
  }
 ],
 "metadata": {
  "kernelspec": {
   "display_name": "Python 3",
   "language": "python",
   "name": "python3"
  },
  "language_info": {
   "codemirror_mode": {
    "name": "ipython",
    "version": 3
   },
   "file_extension": ".py",
   "mimetype": "text/x-python",
   "name": "python",
   "nbconvert_exporter": "python",
   "pygments_lexer": "ipython3",
   "version": "3.7.3"
  }
 },
 "nbformat": 4,
 "nbformat_minor": 2
}
